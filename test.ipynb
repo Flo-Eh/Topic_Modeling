{
 "cells": [
  {
   "cell_type": "code",
   "execution_count": 1,
   "metadata": {},
   "outputs": [],
   "source": [
    "import uvicorn \n",
    "import gensim\n",
    "from gensim.models import LdaModel\n",
    "from gensim.models.coherencemodel import CoherenceModel\n",
    "from fastapi import FastAPI\n",
    "from fastapi import Header\n",
    "from pydantic import BaseModel\n",
    "import pandas as pd \n",
    "import numpy as np \n",
    "from gensim.test.utils import datapath\n",
    "from ast import literal_eval\n",
    "from gensim import corpora\n",
    "import os\n",
    "#from data_ingestion import read_txt_content, preprocess_data, get_date, get_ref, get_files_list\n",
    "#from kpi import load_corpus_model, preprocess_data, load_lda_model, calculate_coherence\n",
    "import pandas as pd "
   ]
  },
  {
   "cell_type": "code",
   "execution_count": 2,
   "metadata": {},
   "outputs": [],
   "source": [
    "folder_name = 'CI_newspaper_subcorpora'\n",
    "pub_refs = [\"2012271201\", \"sn85054967\", \"sn93053873\", \"sn85066408\", \"sn85055164\", \"sn84037024\", \"sn84037025\", \"sn84020351\", \"sn86092310\", \"sn92051386\"]\n",
    "pub_names = [\"Cronaca_Sovversiva\", \"Il_Patriota\", \"L'Indipendente\", \"L'Italia\", \"La_Libera_Parola\", \"La_Ragione\", \"La_Rassegna\", \"La_Sentinella\", \"La_Sentinella_del_West\", \"La_Tribuna_del_Connecticut\"]\n",
    "date_ref_1 = \"1903-06-06\"\n",
    "date_ref_2 = \"1919-05-01\""
   ]
  },
  {
   "cell_type": "code",
   "execution_count": 3,
   "metadata": {},
   "outputs": [],
   "source": [
    "corpus_model_file = 'corpus_model.csv'\n",
    "current_directory = os.getcwd()\n",
    "lda_model_file = os.path.join(current_directory, 'lda_model')  # Construct the path to the LDA model file\n",
    "bigrams = load_corpus_model(corpus_model_file)\n",
    "id2word, corpus = preprocess_data(bigrams)\n",
    "lda = load_lda_model(lda_model_file)"
   ]
  },
  {
   "cell_type": "code",
   "execution_count": 4,
   "metadata": {},
   "outputs": [],
   "source": [
    "topic_print_model = lda.print_topics(num_words=30)"
   ]
  },
  {
   "cell_type": "code",
   "execution_count": 6,
   "metadata": {},
   "outputs": [],
   "source": [
    "df_topic_print_model = pd.DataFrame(topic_print_model, columns=['topic_id','words'])"
   ]
  },
  {
   "cell_type": "code",
   "execution_count": 11,
   "metadata": {},
   "outputs": [
    {
     "data": {
      "text/plain": [
       "[(0,\n",
       "  '0.001*\"pace\" + 0.001*\"america\" + 0.001*\"francisco\" + 0.001*\"pubblico\" + 0.001*\"loggia\" + 0.001*\"sera\" + 0.001*\"vero\" + 0.001*\"patria\" + 0.001*\"morte\" + 0.001*\"capo\" + 0.001*\"alia\" + 0.001*\"figli\" + 0.001*\"società\" + 0.001*\"venne\" + 0.001*\"legge\" + 0.001*\"dollari\" + 0.001*\"colonia\" + 0.001*\"vittoria\" + 0.001*\"comitato\" + 0.001*\"londra\" + 0.001*\"cuore\" + 0.001*\"storia\" + 0.001*\"disse\" + 0.001*\"diritto\" + 0.001*\"fatti\" + 0.001*\"direttore\" + 0.001*\"altra\" + 0.001*\"delia\" + 0.001*\"milano\" + 0.001*\"lire\"'),\n",
       " (1,\n",
       "  '0.002*\"pace\" + 0.002*\"austriaci\" + 0.002*\"tedeschi\" + 0.001*\"wilson\" + 0.001*\"alleati\" + 0.001*\"nemico\" + 0.001*\"congresso\" + 0.001*\"vittoria\" + 0.001*\"nazioni\" + 0.001*\"questione\" + 0.001*\"america\" + 0.001*\"londra\" + 0.001*\"politica\" + 0.001*\"americani\" + 0.001*\"ltalia\" + 0.001*\"diritto\" + 0.001*\"americano\" + 0.001*\"legge\" + 0.001*\"marzo\" + 0.001*\"ufficiali\" + 0.001*\"patria\" + 0.001*\"francese\" + 0.001*\"italiane\" + 0.001*\"presidente_wilson\" + 0.001*\"lotta\" + 0.001*\"militare\" + 0.001*\"zione\" + 0.001*\"difesa\" + 0.001*\"conferenza\" + 0.001*\"americana\"'),\n",
       " (2,\n",
       "  '0.001*\"aprile\" + 0.001*\"pace\" + 0.001*\"morte\" + 0.001*\"legge\" + 0.001*\"wilson\" + 0.001*\"america\" + 0.001*\"alia\" + 0.001*\"patria\" + 0.001*\"venne\" + 0.001*\"notizia\" + 0.001*\"italiane\" + 0.001*\"capo\" + 0.001*\"camera\" + 0.001*\"francese\" + 0.001*\"opera\" + 0.001*\"milano\" + 0.001*\"vero\" + 0.001*\"francisco\" + 0.001*\"data\" + 0.001*\"londra\" + 0.001*\"forte\" + 0.001*\"ordine\" + 0.001*\"pubblico\" + 0.001*\"colonia\" + 0.001*\"tripoli\" + 0.001*\"pro\" + 0.001*\"lotta\" + 0.001*\"dare\" + 0.001*\"politica\" + 0.001*\"nazione\"'),\n",
       " (3,\n",
       "  '0.003*\"tedeschi\" + 0.002*\"nemico\" + 0.002*\"alleati\" + 0.002*\"pace\" + 0.002*\"wilson\" + 0.002*\"fiume\" + 0.001*\"presidente_wilson\" + 0.001*\"austriaci\" + 0.001*\"austria\" + 0.001*\"americani\" + 0.001*\"ottobre\" + 0.001*\"londra\" + 0.001*\"tedesco\" + 0.001*\"vittoria\" + 0.001*\"america\" + 0.001*\"ufficiali\" + 0.001*\"inglese\" + 0.001*\"nazione\" + 0.001*\"americano\" + 0.001*\"inglesi\" + 0.001*\"francese\" + 0.001*\"ltalia\" + 0.001*\"tedesca\" + 0.001*\"francesi\" + 0.001*\"nazioni\" + 0.001*\"russia\" + 0.001*\"situazione\" + 0.001*\"condizioni\" + 0.001*\"battaglia\" + 0.001*\"linea\"'),\n",
       " (4,\n",
       "  '0.002*\"tedeschi\" + 0.001*\"pace\" + 0.001*\"nemico\" + 0.001*\"russia\" + 0.001*\"alleati\" + 0.001*\"patria\" + 0.001*\"francese\" + 0.001*\"vittoria\" + 0.001*\"legge\" + 0.001*\"america\" + 0.001*\"difesa\" + 0.001*\"vero\" + 0.001*\"figli\" + 0.001*\"aprile\" + 0.001*\"lotta\" + 0.001*\"zione\" + 0.001*\"diritto\" + 0.001*\"maggio\" + 0.001*\"esercito\" + 0.001*\"camera\" + 0.001*\"wilson\" + 0.001*\"londra\" + 0.001*\"morte\" + 0.001*\"fatti\" + 0.001*\"milano\" + 0.001*\"venne\" + 0.001*\"società\" + 0.001*\"politica\" + 0.001*\"battaglia\" + 0.001*\"tedesco\"'),\n",
       " (5,\n",
       "  '0.002*\"pace\" + 0.002*\"tedeschi\" + 0.002*\"nemico\" + 0.002*\"alleati\" + 0.001*\"vittoria\" + 0.001*\"marzo\" + 0.001*\"wilson\" + 0.001*\"russia\" + 0.001*\"tedesco\" + 0.001*\"austria\" + 0.001*\"francese\" + 0.001*\"fiume\" + 0.001*\"americano\" + 0.001*\"francesi\" + 0.001*\"nazione\" + 0.001*\"legge\" + 0.001*\"americani\" + 0.001*\"londra\" + 0.001*\"diritto\" + 0.001*\"america\" + 0.001*\"aprile\" + 0.001*\"congresso\" + 0.001*\"delia\" + 0.001*\"lotta\" + 0.001*\"patria\" + 0.001*\"data\" + 0.001*\"ottobre\" + 0.001*\"condizioni\" + 0.001*\"americana\" + 0.001*\"milano\"'),\n",
       " (6,\n",
       "  '0.002*\"cuore\" + 0.001*\"cose\" + 0.001*\"pubblico\" + 0.001*\"colonia\" + 0.001*\"voce\" + 0.001*\"fatti\" + 0.001*\"vero\" + 0.001*\"ragione\" + 0.001*\"pace\" + 0.001*\"parola\" + 0.001*\"figli\" + 0.001*\"diritto\" + 0.001*\"america\" + 0.001*\"donna\" + 0.001*\"amore\" + 0.001*\"quei\" + 0.001*\"sole\" + 0.001*\"occhi\" + 0.001*\"storia\" + 0.001*\"patria\" + 0.001*\"pensiero\" + 0.001*\"terra\" + 0.001*\"zione\" + 0.001*\"società\" + 0.001*\"pur\" + 0.001*\"politica\" + 0.001*\"lotta\" + 0.001*\"giustizia\" + 0.001*\"dovere\" + 0.001*\"bella\"')]"
      ]
     },
     "execution_count": 11,
     "metadata": {},
     "output_type": "execute_result"
    }
   ],
   "source": [
    "topic_print_model"
   ]
  },
  {
   "cell_type": "code",
   "execution_count": 20,
   "metadata": {},
   "outputs": [
    {
     "name": "stdout",
     "output_type": "stream",
     "text": [
      "0 0.001*\"pace\" + 0.001*\"america\" + 0.001*\"francisco\" + 0.001*\"pubblico\" + 0.001*\"loggia\" + 0.001*\"sera\" + 0.001*\"vero\" + 0.001*\"patria\" + 0.001*\"morte\" + 0.001*\"capo\" + 0.001*\"alia\" + 0.001*\"figli\" + 0.001*\"società\" + 0.001*\"venne\" + 0.001*\"legge\" + 0.001*\"dollari\" + 0.001*\"colonia\" + 0.001*\"vittoria\" + 0.001*\"comitato\" + 0.001*\"londra\" + 0.001*\"cuore\" + 0.001*\"storia\" + 0.001*\"disse\" + 0.001*\"diritto\" + 0.001*\"fatti\" + 0.001*\"direttore\" + 0.001*\"altra\" + 0.001*\"delia\" + 0.001*\"milano\" + 0.001*\"lire\"\n"
     ]
    }
   ],
   "source": [
    "print(topic_print_model[0][0], topic_print_model[0][1])\n"
   ]
  },
  {
   "cell_type": "code",
   "execution_count": 25,
   "metadata": {},
   "outputs": [],
   "source": [
    "dic = { topic_print_model[i][0] : topic_print_model[i][1]  for i in range (7)}"
   ]
  },
  {
   "cell_type": "code",
   "execution_count": 26,
   "metadata": {},
   "outputs": [
    {
     "data": {
      "text/plain": [
       "{0: '0.001*\"pace\" + 0.001*\"america\" + 0.001*\"francisco\" + 0.001*\"pubblico\" + 0.001*\"loggia\" + 0.001*\"sera\" + 0.001*\"vero\" + 0.001*\"patria\" + 0.001*\"morte\" + 0.001*\"capo\" + 0.001*\"alia\" + 0.001*\"figli\" + 0.001*\"società\" + 0.001*\"venne\" + 0.001*\"legge\" + 0.001*\"dollari\" + 0.001*\"colonia\" + 0.001*\"vittoria\" + 0.001*\"comitato\" + 0.001*\"londra\" + 0.001*\"cuore\" + 0.001*\"storia\" + 0.001*\"disse\" + 0.001*\"diritto\" + 0.001*\"fatti\" + 0.001*\"direttore\" + 0.001*\"altra\" + 0.001*\"delia\" + 0.001*\"milano\" + 0.001*\"lire\"',\n",
       " 1: '0.002*\"pace\" + 0.002*\"austriaci\" + 0.002*\"tedeschi\" + 0.001*\"wilson\" + 0.001*\"alleati\" + 0.001*\"nemico\" + 0.001*\"congresso\" + 0.001*\"vittoria\" + 0.001*\"nazioni\" + 0.001*\"questione\" + 0.001*\"america\" + 0.001*\"londra\" + 0.001*\"politica\" + 0.001*\"americani\" + 0.001*\"ltalia\" + 0.001*\"diritto\" + 0.001*\"americano\" + 0.001*\"legge\" + 0.001*\"marzo\" + 0.001*\"ufficiali\" + 0.001*\"patria\" + 0.001*\"francese\" + 0.001*\"italiane\" + 0.001*\"presidente_wilson\" + 0.001*\"lotta\" + 0.001*\"militare\" + 0.001*\"zione\" + 0.001*\"difesa\" + 0.001*\"conferenza\" + 0.001*\"americana\"',\n",
       " 2: '0.001*\"aprile\" + 0.001*\"pace\" + 0.001*\"morte\" + 0.001*\"legge\" + 0.001*\"wilson\" + 0.001*\"america\" + 0.001*\"alia\" + 0.001*\"patria\" + 0.001*\"venne\" + 0.001*\"notizia\" + 0.001*\"italiane\" + 0.001*\"capo\" + 0.001*\"camera\" + 0.001*\"francese\" + 0.001*\"opera\" + 0.001*\"milano\" + 0.001*\"vero\" + 0.001*\"francisco\" + 0.001*\"data\" + 0.001*\"londra\" + 0.001*\"forte\" + 0.001*\"ordine\" + 0.001*\"pubblico\" + 0.001*\"colonia\" + 0.001*\"tripoli\" + 0.001*\"pro\" + 0.001*\"lotta\" + 0.001*\"dare\" + 0.001*\"politica\" + 0.001*\"nazione\"',\n",
       " 3: '0.003*\"tedeschi\" + 0.002*\"nemico\" + 0.002*\"alleati\" + 0.002*\"pace\" + 0.002*\"wilson\" + 0.002*\"fiume\" + 0.001*\"presidente_wilson\" + 0.001*\"austriaci\" + 0.001*\"austria\" + 0.001*\"americani\" + 0.001*\"ottobre\" + 0.001*\"londra\" + 0.001*\"tedesco\" + 0.001*\"vittoria\" + 0.001*\"america\" + 0.001*\"ufficiali\" + 0.001*\"inglese\" + 0.001*\"nazione\" + 0.001*\"americano\" + 0.001*\"inglesi\" + 0.001*\"francese\" + 0.001*\"ltalia\" + 0.001*\"tedesca\" + 0.001*\"francesi\" + 0.001*\"nazioni\" + 0.001*\"russia\" + 0.001*\"situazione\" + 0.001*\"condizioni\" + 0.001*\"battaglia\" + 0.001*\"linea\"',\n",
       " 4: '0.002*\"tedeschi\" + 0.001*\"pace\" + 0.001*\"nemico\" + 0.001*\"russia\" + 0.001*\"alleati\" + 0.001*\"patria\" + 0.001*\"francese\" + 0.001*\"vittoria\" + 0.001*\"legge\" + 0.001*\"america\" + 0.001*\"difesa\" + 0.001*\"vero\" + 0.001*\"figli\" + 0.001*\"aprile\" + 0.001*\"lotta\" + 0.001*\"zione\" + 0.001*\"diritto\" + 0.001*\"maggio\" + 0.001*\"esercito\" + 0.001*\"camera\" + 0.001*\"wilson\" + 0.001*\"londra\" + 0.001*\"morte\" + 0.001*\"fatti\" + 0.001*\"milano\" + 0.001*\"venne\" + 0.001*\"società\" + 0.001*\"politica\" + 0.001*\"battaglia\" + 0.001*\"tedesco\"',\n",
       " 5: '0.002*\"pace\" + 0.002*\"tedeschi\" + 0.002*\"nemico\" + 0.002*\"alleati\" + 0.001*\"vittoria\" + 0.001*\"marzo\" + 0.001*\"wilson\" + 0.001*\"russia\" + 0.001*\"tedesco\" + 0.001*\"austria\" + 0.001*\"francese\" + 0.001*\"fiume\" + 0.001*\"americano\" + 0.001*\"francesi\" + 0.001*\"nazione\" + 0.001*\"legge\" + 0.001*\"americani\" + 0.001*\"londra\" + 0.001*\"diritto\" + 0.001*\"america\" + 0.001*\"aprile\" + 0.001*\"congresso\" + 0.001*\"delia\" + 0.001*\"lotta\" + 0.001*\"patria\" + 0.001*\"data\" + 0.001*\"ottobre\" + 0.001*\"condizioni\" + 0.001*\"americana\" + 0.001*\"milano\"',\n",
       " 6: '0.002*\"cuore\" + 0.001*\"cose\" + 0.001*\"pubblico\" + 0.001*\"colonia\" + 0.001*\"voce\" + 0.001*\"fatti\" + 0.001*\"vero\" + 0.001*\"ragione\" + 0.001*\"pace\" + 0.001*\"parola\" + 0.001*\"figli\" + 0.001*\"diritto\" + 0.001*\"america\" + 0.001*\"donna\" + 0.001*\"amore\" + 0.001*\"quei\" + 0.001*\"sole\" + 0.001*\"occhi\" + 0.001*\"storia\" + 0.001*\"patria\" + 0.001*\"pensiero\" + 0.001*\"terra\" + 0.001*\"zione\" + 0.001*\"società\" + 0.001*\"pur\" + 0.001*\"politica\" + 0.001*\"lotta\" + 0.001*\"giustizia\" + 0.001*\"dovere\" + 0.001*\"bella\"'}"
      ]
     },
     "execution_count": 26,
     "metadata": {},
     "output_type": "execute_result"
    }
   ],
   "source": [
    "dic"
   ]
  },
  {
   "cell_type": "code",
   "execution_count": 4,
   "metadata": {},
   "outputs": [],
   "source": [
    "import requests\n",
    "\n",
    "def test_api():\n",
    "    response = requests.get('http://localhost:8000/')\n",
    "    return response\n",
    "\n",
    "a =test_api()"
   ]
  },
  {
   "cell_type": "code",
   "execution_count": 11,
   "metadata": {},
   "outputs": [
    {
     "data": {
      "text/plain": [
       "\"Hello, I'm working\""
      ]
     },
     "execution_count": 11,
     "metadata": {},
     "output_type": "execute_result"
    }
   ],
   "source": [
    "a.json()"
   ]
  },
  {
   "cell_type": "code",
   "execution_count": 62,
   "metadata": {},
   "outputs": [],
   "source": [
    "from requests.auth import HTTPBasicAuth\n",
    "\n",
    "data = {\n",
    "  \"num_topic\": 2,\n",
    "  \"date_ref_1\": \"1940-06-06\",\n",
    "  \"date_ref_2\": \"1941-05-01\"\n",
    "}\n",
    "\n",
    "b = requests.post('http://localhost:8000/topic', json=data, auth=HTTPBasicAuth('fdmin', 'mdp'))\n"
   ]
  },
  {
   "cell_type": "code",
   "execution_count": 73,
   "metadata": {},
   "outputs": [
    {
     "data": {
      "text/plain": [
       "'Incorrect email or password'"
      ]
     },
     "execution_count": 73,
     "metadata": {},
     "output_type": "execute_result"
    }
   ],
   "source": [
    "list(b.json().values())[0]\n"
   ]
  },
  {
   "cell_type": "code",
   "execution_count": 75,
   "metadata": {},
   "outputs": [
    {
     "data": {
      "text/plain": [
       "True"
      ]
     },
     "execution_count": 75,
     "metadata": {},
     "output_type": "execute_result"
    }
   ],
   "source": [
    "list(b.json().values())[0] == 'Incorrect email or password'\n"
   ]
  },
  {
   "cell_type": "code",
   "execution_count": 6,
   "metadata": {},
   "outputs": [
    {
     "data": {
      "text/html": [
       "<div>\n",
       "<style scoped>\n",
       "    .dataframe tbody tr th:only-of-type {\n",
       "        vertical-align: middle;\n",
       "    }\n",
       "\n",
       "    .dataframe tbody tr th {\n",
       "        vertical-align: top;\n",
       "    }\n",
       "\n",
       "    .dataframe thead th {\n",
       "        text-align: right;\n",
       "    }\n",
       "</style>\n",
       "<table border=\"1\" class=\"dataframe\">\n",
       "  <thead>\n",
       "    <tr style=\"text-align: right;\">\n",
       "      <th></th>\n",
       "      <th>Unnamed: 0</th>\n",
       "      <th>file_name</th>\n",
       "      <th>date</th>\n",
       "      <th>publication_ref</th>\n",
       "      <th>publication_name</th>\n",
       "      <th>file_content</th>\n",
       "      <th>chars_count</th>\n",
       "      <th>words_count</th>\n",
       "    </tr>\n",
       "  </thead>\n",
       "  <tbody>\n",
       "    <tr>\n",
       "      <th>0</th>\n",
       "      <td>0</td>\n",
       "      <td>/La_Sentinella/sn84020351_1930-06-07_ed-1_seq-...</td>\n",
       "      <td>1930-06-07</td>\n",
       "      <td>sn84020351</td>\n",
       "      <td>La_Sentinella</td>\n",
       "      <td>C'è ancora da combattere da soffrire, da vinc...</td>\n",
       "      <td>20790</td>\n",
       "      <td>3609</td>\n",
       "    </tr>\n",
       "    <tr>\n",
       "      <th>1</th>\n",
       "      <td>1</td>\n",
       "      <td>/La_Sentinella/sn84020351_1930-06-14_ed-1_seq-...</td>\n",
       "      <td>1930-06-14</td>\n",
       "      <td>sn84020351</td>\n",
       "      <td>La_Sentinella</td>\n",
       "      <td>C'è ancora da combattere da soffrire, da vinc...</td>\n",
       "      <td>21810</td>\n",
       "      <td>3779</td>\n",
       "    </tr>\n",
       "    <tr>\n",
       "      <th>2</th>\n",
       "      <td>2</td>\n",
       "      <td>/La_Sentinella/sn84020351_1930-06-21_ed-1_seq-...</td>\n",
       "      <td>1930-06-21</td>\n",
       "      <td>sn84020351</td>\n",
       "      <td>La_Sentinella</td>\n",
       "      <td>MICHAEL F. CHINCO MORRIS SILVERBURY BENCH. Il...</td>\n",
       "      <td>20844</td>\n",
       "      <td>3571</td>\n",
       "    </tr>\n",
       "    <tr>\n",
       "      <th>3</th>\n",
       "      <td>3</td>\n",
       "      <td>/La_Sentinella/sn84020351_1930-06-28_ed-1_seq-...</td>\n",
       "      <td>1930-06-28</td>\n",
       "      <td>sn84020351</td>\n",
       "      <td>La_Sentinella</td>\n",
       "      <td>4 LUGLIO DUE ANNIVERSARII FATIDICI. Venerdì p...</td>\n",
       "      <td>19681</td>\n",
       "      <td>3351</td>\n",
       "    </tr>\n",
       "    <tr>\n",
       "      <th>4</th>\n",
       "      <td>4</td>\n",
       "      <td>/La_Sentinella/sn84020351_1930-07-05_ed-1_seq-...</td>\n",
       "      <td>1930-07-05</td>\n",
       "      <td>sn84020351</td>\n",
       "      <td>La_Sentinella</td>\n",
       "      <td>. C'è ancora da combattere da soffrire, da vi...</td>\n",
       "      <td>20463</td>\n",
       "      <td>3460</td>\n",
       "    </tr>\n",
       "  </tbody>\n",
       "</table>\n",
       "</div>"
      ],
      "text/plain": [
       "   Unnamed: 0                                          file_name        date   \n",
       "0           0  /La_Sentinella/sn84020351_1930-06-07_ed-1_seq-...  1930-06-07  \\\n",
       "1           1  /La_Sentinella/sn84020351_1930-06-14_ed-1_seq-...  1930-06-14   \n",
       "2           2  /La_Sentinella/sn84020351_1930-06-21_ed-1_seq-...  1930-06-21   \n",
       "3           3  /La_Sentinella/sn84020351_1930-06-28_ed-1_seq-...  1930-06-28   \n",
       "4           4  /La_Sentinella/sn84020351_1930-07-05_ed-1_seq-...  1930-07-05   \n",
       "\n",
       "  publication_ref publication_name   \n",
       "0      sn84020351    La_Sentinella  \\\n",
       "1      sn84020351    La_Sentinella   \n",
       "2      sn84020351    La_Sentinella   \n",
       "3      sn84020351    La_Sentinella   \n",
       "4      sn84020351    La_Sentinella   \n",
       "\n",
       "                                        file_content  chars_count  words_count  \n",
       "0   C'è ancora da combattere da soffrire, da vinc...        20790         3609  \n",
       "1   C'è ancora da combattere da soffrire, da vinc...        21810         3779  \n",
       "2   MICHAEL F. CHINCO MORRIS SILVERBURY BENCH. Il...        20844         3571  \n",
       "3   4 LUGLIO DUE ANNIVERSARII FATIDICI. Venerdì p...        19681         3351  \n",
       "4   . C'è ancora da combattere da soffrire, da vi...        20463         3460  "
      ]
     },
     "execution_count": 6,
     "metadata": {},
     "output_type": "execute_result"
    }
   ],
   "source": [
    "pd.read_csv('subset.csv').head()"
   ]
  },
  {
   "cell_type": "code",
   "execution_count": 21,
   "metadata": {},
   "outputs": [
    {
     "name": "stderr",
     "output_type": "stream",
     "text": [
      "[nltk_data] Downloading package punkt to\n",
      "[nltk_data]     C:\\Users\\Florian\\AppData\\Roaming\\nltk_data...\n",
      "[nltk_data]   Package punkt is already up-to-date!\n",
      "[nltk_data] Downloading package stopwords to\n",
      "[nltk_data]     C:\\Users\\Florian\\AppData\\Roaming\\nltk_data...\n",
      "[nltk_data]   Package stopwords is already up-to-date!\n"
     ]
    }
   ],
   "source": [
    "from pre_processing import load_data\n",
    "corpus_df = load_data('subset.csv')"
   ]
  },
  {
   "cell_type": "code",
   "execution_count": 22,
   "metadata": {},
   "outputs": [
    {
     "data": {
      "text/html": [
       "<div>\n",
       "<style scoped>\n",
       "    .dataframe tbody tr th:only-of-type {\n",
       "        vertical-align: middle;\n",
       "    }\n",
       "\n",
       "    .dataframe tbody tr th {\n",
       "        vertical-align: top;\n",
       "    }\n",
       "\n",
       "    .dataframe thead th {\n",
       "        text-align: right;\n",
       "    }\n",
       "</style>\n",
       "<table border=\"1\" class=\"dataframe\">\n",
       "  <thead>\n",
       "    <tr style=\"text-align: right;\">\n",
       "      <th></th>\n",
       "      <th>Unnamed: 0</th>\n",
       "      <th>file_name</th>\n",
       "      <th>date</th>\n",
       "      <th>publication_ref</th>\n",
       "      <th>publication_name</th>\n",
       "      <th>file_content</th>\n",
       "      <th>chars_count</th>\n",
       "      <th>words_count</th>\n",
       "    </tr>\n",
       "  </thead>\n",
       "  <tbody>\n",
       "    <tr>\n",
       "      <th>0</th>\n",
       "      <td>0</td>\n",
       "      <td>/La_Sentinella/sn84020351_1930-06-07_ed-1_seq-...</td>\n",
       "      <td>1930-06-07</td>\n",
       "      <td>sn84020351</td>\n",
       "      <td>La_Sentinella</td>\n",
       "      <td>C'è ancora da combattere da soffrire, da vinc...</td>\n",
       "      <td>20790</td>\n",
       "      <td>3609</td>\n",
       "    </tr>\n",
       "    <tr>\n",
       "      <th>1</th>\n",
       "      <td>1</td>\n",
       "      <td>/La_Sentinella/sn84020351_1930-06-14_ed-1_seq-...</td>\n",
       "      <td>1930-06-14</td>\n",
       "      <td>sn84020351</td>\n",
       "      <td>La_Sentinella</td>\n",
       "      <td>C'è ancora da combattere da soffrire, da vinc...</td>\n",
       "      <td>21810</td>\n",
       "      <td>3779</td>\n",
       "    </tr>\n",
       "    <tr>\n",
       "      <th>2</th>\n",
       "      <td>2</td>\n",
       "      <td>/La_Sentinella/sn84020351_1930-06-21_ed-1_seq-...</td>\n",
       "      <td>1930-06-21</td>\n",
       "      <td>sn84020351</td>\n",
       "      <td>La_Sentinella</td>\n",
       "      <td>MICHAEL F. CHINCO MORRIS SILVERBURY BENCH. Il...</td>\n",
       "      <td>20844</td>\n",
       "      <td>3571</td>\n",
       "    </tr>\n",
       "    <tr>\n",
       "      <th>3</th>\n",
       "      <td>3</td>\n",
       "      <td>/La_Sentinella/sn84020351_1930-06-28_ed-1_seq-...</td>\n",
       "      <td>1930-06-28</td>\n",
       "      <td>sn84020351</td>\n",
       "      <td>La_Sentinella</td>\n",
       "      <td>4 LUGLIO DUE ANNIVERSARII FATIDICI. Venerdì p...</td>\n",
       "      <td>19681</td>\n",
       "      <td>3351</td>\n",
       "    </tr>\n",
       "    <tr>\n",
       "      <th>4</th>\n",
       "      <td>4</td>\n",
       "      <td>/La_Sentinella/sn84020351_1930-07-05_ed-1_seq-...</td>\n",
       "      <td>1930-07-05</td>\n",
       "      <td>sn84020351</td>\n",
       "      <td>La_Sentinella</td>\n",
       "      <td>. C'è ancora da combattere da soffrire, da vi...</td>\n",
       "      <td>20463</td>\n",
       "      <td>3460</td>\n",
       "    </tr>\n",
       "    <tr>\n",
       "      <th>5</th>\n",
       "      <td>5</td>\n",
       "      <td>/La_Sentinella/sn84020351_1930-07-12_ed-1_seq-...</td>\n",
       "      <td>1930-07-12</td>\n",
       "      <td>sn84020351</td>\n",
       "      <td>La_Sentinella</td>\n",
       "      <td>C'è ancora da combattere da soffrire, da vinc...</td>\n",
       "      <td>21248</td>\n",
       "      <td>3608</td>\n",
       "    </tr>\n",
       "    <tr>\n",
       "      <th>6</th>\n",
       "      <td>6</td>\n",
       "      <td>/La_Sentinella/sn84020351_1930-07-19_ed-1_seq-...</td>\n",
       "      <td>1930-07-19</td>\n",
       "      <td>sn84020351</td>\n",
       "      <td>La_Sentinella</td>\n",
       "      <td>C'è ancora da combattere da soffrire, da vinc...</td>\n",
       "      <td>19055</td>\n",
       "      <td>3191</td>\n",
       "    </tr>\n",
       "    <tr>\n",
       "      <th>7</th>\n",
       "      <td>7</td>\n",
       "      <td>/La_Sentinella/sn84020351_1930-07-26_ed-1_seq-...</td>\n",
       "      <td>1930-07-26</td>\n",
       "      <td>sn84020351</td>\n",
       "      <td>La_Sentinella</td>\n",
       "      <td>C'è àncora da combattere da soffrire, da vinc...</td>\n",
       "      <td>21385</td>\n",
       "      <td>3757</td>\n",
       "    </tr>\n",
       "    <tr>\n",
       "      <th>8</th>\n",
       "      <td>8</td>\n",
       "      <td>/La_Sentinella/sn84020351_1930-08-02_ed-1_seq-...</td>\n",
       "      <td>1930-08-02</td>\n",
       "      <td>sn84020351</td>\n",
       "      <td>La_Sentinella</td>\n",
       "      <td>C'è ancora da combattere da soffrire, da vinc...</td>\n",
       "      <td>20110</td>\n",
       "      <td>3305</td>\n",
       "    </tr>\n",
       "    <tr>\n",
       "      <th>9</th>\n",
       "      <td>9</td>\n",
       "      <td>/La_Sentinella/sn84020351_1930-08-09_ed-1_seq-...</td>\n",
       "      <td>1930-08-09</td>\n",
       "      <td>sn84020351</td>\n",
       "      <td>La_Sentinella</td>\n",
       "      <td>BRIDGEPORT, CONN,. SABATO- 9 AGOSTO 1930 jncr...</td>\n",
       "      <td>20700</td>\n",
       "      <td>3512</td>\n",
       "    </tr>\n",
       "    <tr>\n",
       "      <th>10</th>\n",
       "      <td>10</td>\n",
       "      <td>/La_Sentinella/sn84020351_1930-08-16_ed-1_seq-...</td>\n",
       "      <td>1930-08-16</td>\n",
       "      <td>sn84020351</td>\n",
       "      <td>La_Sentinella</td>\n",
       "      <td>Come Nacque e Com'è Vissuta Fin'Oggi la Dirit...</td>\n",
       "      <td>15313</td>\n",
       "      <td>2602</td>\n",
       "    </tr>\n",
       "    <tr>\n",
       "      <th>11</th>\n",
       "      <td>11</td>\n",
       "      <td>/La_Sentinella/sn84020351_1930-08-23_ed-1_seq-...</td>\n",
       "      <td>1930-08-23</td>\n",
       "      <td>sn84020351</td>\n",
       "      <td>La_Sentinella</td>\n",
       "      <td>mrs. lucia cerreta na mamma, la quale, vigile...</td>\n",
       "      <td>21457</td>\n",
       "      <td>3737</td>\n",
       "    </tr>\n",
       "    <tr>\n",
       "      <th>12</th>\n",
       "      <td>12</td>\n",
       "      <td>/La_Sentinella/sn84020351_1930-08-30_ed-1_seq-...</td>\n",
       "      <td>1930-08-30</td>\n",
       "      <td>sn84020351</td>\n",
       "      <td>La_Sentinella</td>\n",
       "      <td>C'è ancora da combattere da soffrire, da vinc...</td>\n",
       "      <td>21166</td>\n",
       "      <td>3588</td>\n",
       "    </tr>\n",
       "    <tr>\n",
       "      <th>13</th>\n",
       "      <td>13</td>\n",
       "      <td>/La_Sentinella/sn84020351_1930-09-06_ed-1_seq-...</td>\n",
       "      <td>1930-09-06</td>\n",
       "      <td>sn84020351</td>\n",
       "      <td>La_Sentinella</td>\n",
       "      <td>C'è ancora da combattere da soffrire, da vinc...</td>\n",
       "      <td>21425</td>\n",
       "      <td>3661</td>\n",
       "    </tr>\n",
       "    <tr>\n",
       "      <th>14</th>\n",
       "      <td>14</td>\n",
       "      <td>/La_Sentinella/sn84020351_1930-09-13_ed-1_seq-...</td>\n",
       "      <td>1930-09-13</td>\n",
       "      <td>sn84020351</td>\n",
       "      <td>La_Sentinella</td>\n",
       "      <td>1 NOSTRI FIGLI. Le nostre più rosee speranze ...</td>\n",
       "      <td>21492</td>\n",
       "      <td>3607</td>\n",
       "    </tr>\n",
       "    <tr>\n",
       "      <th>15</th>\n",
       "      <td>15</td>\n",
       "      <td>/La_Sentinella/sn84020351_1930-09-20_ed-1_seq-...</td>\n",
       "      <td>1930-09-20</td>\n",
       "      <td>sn84020351</td>\n",
       "      <td>La_Sentinella</td>\n",
       "      <td>\" \"' XX SETTEMBRE. IL.XX Settembre di riunira...</td>\n",
       "      <td>20066</td>\n",
       "      <td>3248</td>\n",
       "    </tr>\n",
       "    <tr>\n",
       "      <th>16</th>\n",
       "      <td>16</td>\n",
       "      <td>/La_Sentinella/sn84020351_1930-09-27_ed-1_seq-...</td>\n",
       "      <td>1930-09-27</td>\n",
       "      <td>sn84020351</td>\n",
       "      <td>La_Sentinella</td>\n",
       "      <td>DESIDERIO QUOTIDIANO. Svegliarsi ogni mattina...</td>\n",
       "      <td>22332</td>\n",
       "      <td>3774</td>\n",
       "    </tr>\n",
       "    <tr>\n",
       "      <th>17</th>\n",
       "      <td>17</td>\n",
       "      <td>/La_Sentinella/sn84020351_1930-10-04_ed-1_seq-...</td>\n",
       "      <td>1930-10-04</td>\n",
       "      <td>sn84020351</td>\n",
       "      <td>La_Sentinella</td>\n",
       "      <td>C'è ancora da combattere da soffrire, da vinc...</td>\n",
       "      <td>21262</td>\n",
       "      <td>3538</td>\n",
       "    </tr>\n",
       "    <tr>\n",
       "      <th>18</th>\n",
       "      <td>18</td>\n",
       "      <td>/La_Sentinella/sn84020351_1930-10-11_ed-1_seq-...</td>\n",
       "      <td>1930-10-11</td>\n",
       "      <td>sn84020351</td>\n",
       "      <td>La_Sentinella</td>\n",
       "      <td>PUBLIO VIRGILIO MAROWE Duemila anni fa nascev...</td>\n",
       "      <td>15037</td>\n",
       "      <td>2613</td>\n",
       "    </tr>\n",
       "    <tr>\n",
       "      <th>19</th>\n",
       "      <td>19</td>\n",
       "      <td>/La_Sentinella/sn84020351_1930-10-18_ed-1_seq-...</td>\n",
       "      <td>1930-10-18</td>\n",
       "      <td>sn84020351</td>\n",
       "      <td>La_Sentinella</td>\n",
       "      <td>C'è ancora da combattere da soffrire, da vinc...</td>\n",
       "      <td>22017</td>\n",
       "      <td>3686</td>\n",
       "    </tr>\n",
       "    <tr>\n",
       "      <th>20</th>\n",
       "      <td>20</td>\n",
       "      <td>/La_Sentinella/sn84020351_1930-10-25_ed-1_seq-...</td>\n",
       "      <td>1930-10-25</td>\n",
       "      <td>sn84020351</td>\n",
       "      <td>La_Sentinella</td>\n",
       "      <td>XXVIII OTTOBRE. Il Fascismo commemora in ques...</td>\n",
       "      <td>22708</td>\n",
       "      <td>3898</td>\n",
       "    </tr>\n",
       "    <tr>\n",
       "      <th>21</th>\n",
       "      <td>21</td>\n",
       "      <td>/La_Sentinella/sn84020351_1930-11-01_ed-1_seq-...</td>\n",
       "      <td>1930-11-01</td>\n",
       "      <td>sn84020351</td>\n",
       "      <td>La_Sentinella</td>\n",
       "      <td>Le Elezioni di MartS(dL4 Nov, Martedì prossim...</td>\n",
       "      <td>19089</td>\n",
       "      <td>3241</td>\n",
       "    </tr>\n",
       "    <tr>\n",
       "      <th>22</th>\n",
       "      <td>22</td>\n",
       "      <td>/La_Sentinella/sn84020351_1930-11-08_ed-1_seq-...</td>\n",
       "      <td>1930-11-08</td>\n",
       "      <td>sn84020351</td>\n",
       "      <td>La_Sentinella</td>\n",
       "      <td>XI NOVEMBRE. Mai-tedi prossimo, il mondo fest...</td>\n",
       "      <td>21306</td>\n",
       "      <td>3641</td>\n",
       "    </tr>\n",
       "    <tr>\n",
       "      <th>23</th>\n",
       "      <td>23</td>\n",
       "      <td>/La_Sentinella/sn84020351_1930-11-15_ed-1_seq-...</td>\n",
       "      <td>1930-11-15</td>\n",
       "      <td>sn84020351</td>\n",
       "      <td>La_Sentinella</td>\n",
       "      <td>SALVE, JUSTICE WHEELED LA SENTINELLA si unisc...</td>\n",
       "      <td>24284</td>\n",
       "      <td>4111</td>\n",
       "    </tr>\n",
       "    <tr>\n",
       "      <th>24</th>\n",
       "      <td>24</td>\n",
       "      <td>/La_Sentinella/sn84020351_1930-11-22_ed-1_seq-...</td>\n",
       "      <td>1930-11-22</td>\n",
       "      <td>sn84020351</td>\n",
       "      <td>La_Sentinella</td>\n",
       "      <td>Thanksgiving Il quarto Giovedì di Novembre tu...</td>\n",
       "      <td>19720</td>\n",
       "      <td>3337</td>\n",
       "    </tr>\n",
       "    <tr>\n",
       "      <th>25</th>\n",
       "      <td>25</td>\n",
       "      <td>/La_Sentinella/sn84020351_1930-11-29_ed-1_seq-...</td>\n",
       "      <td>1930-11-29</td>\n",
       "      <td>sn84020351</td>\n",
       "      <td>La_Sentinella</td>\n",
       "      <td>No. 2g 'ANNO XVII C'è ancora da combattere da...</td>\n",
       "      <td>20785</td>\n",
       "      <td>3506</td>\n",
       "    </tr>\n",
       "    <tr>\n",
       "      <th>26</th>\n",
       "      <td>26</td>\n",
       "      <td>/La_Sentinella/sn84020351_1930-12-06_ed-1_seq-...</td>\n",
       "      <td>1930-12-06</td>\n",
       "      <td>sn84020351</td>\n",
       "      <td>La_Sentinella</td>\n",
       "      <td>LUIGI MAINIERO VITTORIA PICCIRILLO ANNA PROCA...</td>\n",
       "      <td>11877</td>\n",
       "      <td>2003</td>\n",
       "    </tr>\n",
       "    <tr>\n",
       "      <th>27</th>\n",
       "      <td>27</td>\n",
       "      <td>/La_Sentinella/sn84020351_1930-12-13_ed-1_seq-...</td>\n",
       "      <td>1930-12-13</td>\n",
       "      <td>sn84020351</td>\n",
       "      <td>La_Sentinella</td>\n",
       "      <td>' \"PADRE E CRESCIUTO UN FRATE BRODO LUNGO E S...</td>\n",
       "      <td>22193</td>\n",
       "      <td>3762</td>\n",
       "    </tr>\n",
       "    <tr>\n",
       "      <th>28</th>\n",
       "      <td>28</td>\n",
       "      <td>/La_Sentinella/sn84020351_1930-12-20_ed-1_seq-...</td>\n",
       "      <td>1930-12-20</td>\n",
       "      <td>sn84020351</td>\n",
       "      <td>La_Sentinella</td>\n",
       "      <td>C'è ancora da combattere da soffrire, da vinc...</td>\n",
       "      <td>20564</td>\n",
       "      <td>3629</td>\n",
       "    </tr>\n",
       "  </tbody>\n",
       "</table>\n",
       "</div>"
      ],
      "text/plain": [
       "    Unnamed: 0                                          file_name        date   \n",
       "0            0  /La_Sentinella/sn84020351_1930-06-07_ed-1_seq-...  1930-06-07  \\\n",
       "1            1  /La_Sentinella/sn84020351_1930-06-14_ed-1_seq-...  1930-06-14   \n",
       "2            2  /La_Sentinella/sn84020351_1930-06-21_ed-1_seq-...  1930-06-21   \n",
       "3            3  /La_Sentinella/sn84020351_1930-06-28_ed-1_seq-...  1930-06-28   \n",
       "4            4  /La_Sentinella/sn84020351_1930-07-05_ed-1_seq-...  1930-07-05   \n",
       "5            5  /La_Sentinella/sn84020351_1930-07-12_ed-1_seq-...  1930-07-12   \n",
       "6            6  /La_Sentinella/sn84020351_1930-07-19_ed-1_seq-...  1930-07-19   \n",
       "7            7  /La_Sentinella/sn84020351_1930-07-26_ed-1_seq-...  1930-07-26   \n",
       "8            8  /La_Sentinella/sn84020351_1930-08-02_ed-1_seq-...  1930-08-02   \n",
       "9            9  /La_Sentinella/sn84020351_1930-08-09_ed-1_seq-...  1930-08-09   \n",
       "10          10  /La_Sentinella/sn84020351_1930-08-16_ed-1_seq-...  1930-08-16   \n",
       "11          11  /La_Sentinella/sn84020351_1930-08-23_ed-1_seq-...  1930-08-23   \n",
       "12          12  /La_Sentinella/sn84020351_1930-08-30_ed-1_seq-...  1930-08-30   \n",
       "13          13  /La_Sentinella/sn84020351_1930-09-06_ed-1_seq-...  1930-09-06   \n",
       "14          14  /La_Sentinella/sn84020351_1930-09-13_ed-1_seq-...  1930-09-13   \n",
       "15          15  /La_Sentinella/sn84020351_1930-09-20_ed-1_seq-...  1930-09-20   \n",
       "16          16  /La_Sentinella/sn84020351_1930-09-27_ed-1_seq-...  1930-09-27   \n",
       "17          17  /La_Sentinella/sn84020351_1930-10-04_ed-1_seq-...  1930-10-04   \n",
       "18          18  /La_Sentinella/sn84020351_1930-10-11_ed-1_seq-...  1930-10-11   \n",
       "19          19  /La_Sentinella/sn84020351_1930-10-18_ed-1_seq-...  1930-10-18   \n",
       "20          20  /La_Sentinella/sn84020351_1930-10-25_ed-1_seq-...  1930-10-25   \n",
       "21          21  /La_Sentinella/sn84020351_1930-11-01_ed-1_seq-...  1930-11-01   \n",
       "22          22  /La_Sentinella/sn84020351_1930-11-08_ed-1_seq-...  1930-11-08   \n",
       "23          23  /La_Sentinella/sn84020351_1930-11-15_ed-1_seq-...  1930-11-15   \n",
       "24          24  /La_Sentinella/sn84020351_1930-11-22_ed-1_seq-...  1930-11-22   \n",
       "25          25  /La_Sentinella/sn84020351_1930-11-29_ed-1_seq-...  1930-11-29   \n",
       "26          26  /La_Sentinella/sn84020351_1930-12-06_ed-1_seq-...  1930-12-06   \n",
       "27          27  /La_Sentinella/sn84020351_1930-12-13_ed-1_seq-...  1930-12-13   \n",
       "28          28  /La_Sentinella/sn84020351_1930-12-20_ed-1_seq-...  1930-12-20   \n",
       "\n",
       "   publication_ref publication_name   \n",
       "0       sn84020351    La_Sentinella  \\\n",
       "1       sn84020351    La_Sentinella   \n",
       "2       sn84020351    La_Sentinella   \n",
       "3       sn84020351    La_Sentinella   \n",
       "4       sn84020351    La_Sentinella   \n",
       "5       sn84020351    La_Sentinella   \n",
       "6       sn84020351    La_Sentinella   \n",
       "7       sn84020351    La_Sentinella   \n",
       "8       sn84020351    La_Sentinella   \n",
       "9       sn84020351    La_Sentinella   \n",
       "10      sn84020351    La_Sentinella   \n",
       "11      sn84020351    La_Sentinella   \n",
       "12      sn84020351    La_Sentinella   \n",
       "13      sn84020351    La_Sentinella   \n",
       "14      sn84020351    La_Sentinella   \n",
       "15      sn84020351    La_Sentinella   \n",
       "16      sn84020351    La_Sentinella   \n",
       "17      sn84020351    La_Sentinella   \n",
       "18      sn84020351    La_Sentinella   \n",
       "19      sn84020351    La_Sentinella   \n",
       "20      sn84020351    La_Sentinella   \n",
       "21      sn84020351    La_Sentinella   \n",
       "22      sn84020351    La_Sentinella   \n",
       "23      sn84020351    La_Sentinella   \n",
       "24      sn84020351    La_Sentinella   \n",
       "25      sn84020351    La_Sentinella   \n",
       "26      sn84020351    La_Sentinella   \n",
       "27      sn84020351    La_Sentinella   \n",
       "28      sn84020351    La_Sentinella   \n",
       "\n",
       "                                         file_content  chars_count   \n",
       "0    C'è ancora da combattere da soffrire, da vinc...        20790  \\\n",
       "1    C'è ancora da combattere da soffrire, da vinc...        21810   \n",
       "2    MICHAEL F. CHINCO MORRIS SILVERBURY BENCH. Il...        20844   \n",
       "3    4 LUGLIO DUE ANNIVERSARII FATIDICI. Venerdì p...        19681   \n",
       "4    . C'è ancora da combattere da soffrire, da vi...        20463   \n",
       "5    C'è ancora da combattere da soffrire, da vinc...        21248   \n",
       "6    C'è ancora da combattere da soffrire, da vinc...        19055   \n",
       "7    C'è àncora da combattere da soffrire, da vinc...        21385   \n",
       "8    C'è ancora da combattere da soffrire, da vinc...        20110   \n",
       "9    BRIDGEPORT, CONN,. SABATO- 9 AGOSTO 1930 jncr...        20700   \n",
       "10   Come Nacque e Com'è Vissuta Fin'Oggi la Dirit...        15313   \n",
       "11   mrs. lucia cerreta na mamma, la quale, vigile...        21457   \n",
       "12   C'è ancora da combattere da soffrire, da vinc...        21166   \n",
       "13   C'è ancora da combattere da soffrire, da vinc...        21425   \n",
       "14   1 NOSTRI FIGLI. Le nostre più rosee speranze ...        21492   \n",
       "15   \" \"' XX SETTEMBRE. IL.XX Settembre di riunira...        20066   \n",
       "16   DESIDERIO QUOTIDIANO. Svegliarsi ogni mattina...        22332   \n",
       "17   C'è ancora da combattere da soffrire, da vinc...        21262   \n",
       "18   PUBLIO VIRGILIO MAROWE Duemila anni fa nascev...        15037   \n",
       "19   C'è ancora da combattere da soffrire, da vinc...        22017   \n",
       "20   XXVIII OTTOBRE. Il Fascismo commemora in ques...        22708   \n",
       "21   Le Elezioni di MartS(dL4 Nov, Martedì prossim...        19089   \n",
       "22   XI NOVEMBRE. Mai-tedi prossimo, il mondo fest...        21306   \n",
       "23   SALVE, JUSTICE WHEELED LA SENTINELLA si unisc...        24284   \n",
       "24   Thanksgiving Il quarto Giovedì di Novembre tu...        19720   \n",
       "25   No. 2g 'ANNO XVII C'è ancora da combattere da...        20785   \n",
       "26   LUIGI MAINIERO VITTORIA PICCIRILLO ANNA PROCA...        11877   \n",
       "27   ' \"PADRE E CRESCIUTO UN FRATE BRODO LUNGO E S...        22193   \n",
       "28   C'è ancora da combattere da soffrire, da vinc...        20564   \n",
       "\n",
       "    words_count  \n",
       "0          3609  \n",
       "1          3779  \n",
       "2          3571  \n",
       "3          3351  \n",
       "4          3460  \n",
       "5          3608  \n",
       "6          3191  \n",
       "7          3757  \n",
       "8          3305  \n",
       "9          3512  \n",
       "10         2602  \n",
       "11         3737  \n",
       "12         3588  \n",
       "13         3661  \n",
       "14         3607  \n",
       "15         3248  \n",
       "16         3774  \n",
       "17         3538  \n",
       "18         2613  \n",
       "19         3686  \n",
       "20         3898  \n",
       "21         3241  \n",
       "22         3641  \n",
       "23         4111  \n",
       "24         3337  \n",
       "25         3506  \n",
       "26         2003  \n",
       "27         3762  \n",
       "28         3629  "
      ]
     },
     "execution_count": 22,
     "metadata": {},
     "output_type": "execute_result"
    }
   ],
   "source": [
    "corpus_df"
   ]
  },
  {
   "cell_type": "code",
   "execution_count": 3,
   "metadata": {},
   "outputs": [],
   "source": [
    "from sqlalchemy import URL, create_engine, inspect, text\n",
    "\n",
    "url_object = URL.create(\n",
    "    \"mysql+pymysql\",\n",
    "    username=\"root\",\n",
    "    password=\"password\",\n",
    "    host=\"localhost\",\n",
    "    database=\"DB\",\n",
    ")\n",
    "\n",
    "engine = create_engine(url_object)\n",
    "inspector = inspect(engine)"
   ]
  },
  {
   "cell_type": "code",
   "execution_count": 18,
   "metadata": {},
   "outputs": [
    {
     "name": "stdout",
     "output_type": "stream",
     "text": [
      "(1, 'Cronaca_Sovversiva\\\\2012271201_1903-06-13_ed-1_seq-1_ocr.txt', '1903-06-13', '2012271201', 'Cronaca_Sovversiva', ' Ebdomadario anarchico di propaganda rivoluzionaria. XJt redezt miserìs abeat fortuna, superbis! i Interno per I\\' estero, $1.00 \" \" .50 manoscritti  ... (11416 characters truncated) ... llitet, yzione. \" non ne devono vedere altri. \" (1) Doveva mandarci l\\'artico !o commemoratiro del ibo pane e preferivano andarsene piuttosto che i. ')\n",
      "(2, 'Cronaca_Sovversiva\\\\2012271201_1903-06-20_ed-1_seq-1_ocr.txt', '1903-06-20', '2012271201', 'Cronaca_Sovversiva', ' ANNO I. NUMERO 31 VVER Ebdomadario anarchico di propaganda rivoluzionaria. Ut redeat miserìs abeat fortuna superbis! CRONACA Abbonamento annuo per I ... (11169 characters truncated) ...  ma (Dal Lu- Tieni i) LA \" PROTESTA UMANA\" avverte lettori e compagni che\\' il su nuovo recapito c7 Sad Franisco, California P O .Box 2(uS- f \" i fi ')\n",
      "(3, 'Cronaca_Sovversiva\\\\2012271201_1903-06-27_ed-1_seq-1_ocr.txt', '1903-06-27', '2012271201', 'Cronaca_Sovversiva', ' Ebdomadàrio anarchico di propaganda rivoluzionaria. Ut redeat miseris aheat fortuna superbis! . Abbonamento annuo per I interno e per I\\' estero, $1 ... (10550 characters truncated) ... di fucile, con delle tegole e dell\\'olio bollente. Iu bicadellevie, l\\'artiglieria, i fucili a ripeti rione, telefoni e telegrafi (ora s\\'è aggiunto ')\n",
      "(2194, \"L'Italia\\\\sn85066408_1903-06-08_ed-1_seq-1_ocr.txt\", '1903-06-08', 'sn85066408', \"L'Italia\", ' ANNO XY11 GIORNALE ITALIANO PATTO PER GL’ITALIANI TM« PIRST ITALIAN DAILY PAPER oh tmc Pacific coast * almauia\\'. Patrizi « Co., ■DITO» AMD ruBLiniR ... (20148 characters truncated) ... uello di ri volersi all\\'AKPnzta ALMAQIA*, PA TRIZI A CO., la liliale e cerriqp\\'tndsnta diretta dalia Banca d\\'Italia a Gradita Italiane di Genova. ')\n",
      "(2195, \"L'Italia\\\\sn85066408_1903-06-09_ed-1_seq-1_ocr.txt\", '1903-06-09', 'sn85066408', \"L'Italia\", ' ANNO XY11 «(ORNALE ITALIANO FATTO PER GL’ITALIANI THE FIRST ITALIAN OAIL\\' jg —R oh thc Pacific C .p; Almaoia\\', Patrizi « °\\' -tfo, SDITOMI AMO PUa ... (24597 characters truncated) ... no l\\'Ingli Ut erra, la Norve gia. la Danimarca. l\\'Austria Ungheria, e l’Olanda. Abbonatevi al! ITALIA • tale abbo nare t »o»tri auilcL MCMBBO 15*7 ')\n",
      "(2196, \"L'Italia\\\\sn85066408_1903-06-10_ed-1_seq-1_ocr.txt\", '1903-06-10', 'sn85066408', \"L'Italia\", ' ANNO xyu «•ONNAUK ITALIANO PATTO MR — i i PHOT ITALIAN OAVT PAM* oh tnk pAome aaatp ALMAGU\\'. PaTBIII * fgtk. «MToia amo poainrifllli\\' Ti» Oklv Ill ... (20878 characters truncated) ... enti e pudendo una cinquanll ! na di dimosUantl. 81 cperarono i Inqne ai resti. Abbonar*-. i a l\\'l‘! U.ia ..aro i “uatrl amiti (Ha a.ruo NUMERO t»« ')\n",
      "(2197, \"L'Italia\\\\sn85066408_1903-06-11_ed-1_seq-1_ocr.txt\", '1903-06-11', 'sn85066408', \"L'Italia\", ' AN3TO XVU GIORNALE ITALIANO FATTO FER GL\\'ITALIANI THà za.. FIRST ITALIAN DAILY, |ÀgR on th« Pacific , AL MAO IV. PATBItl/. j qL SDITOSI ira BCBLI*/ ... (19524 characters truncated) ... reveda i scarso. Beno sempre gii agrumi. I Civiltà\\' e\\' evoluitone, me \"OM Gllt K<l*e Wh di profreuu. Wlehman. buone com, o»> VcoT* 11 * HI UBO 189 ')\n",
      "(2198, \"L'Italia\\\\sn85066408_1903-06-12_ed-1_seq-1_ocr.txt\", '1903-06-12', 'sn85066408', \"L'Italia\", ' AXNO XVU GIORNALE ITALIANO FATTO F*g OL\\'ITAUAM Tua FIMT ITALIAN DA|l. \\' O %!/ os tms pscino OoÀkv A 1. MAGIA-, Rat UZZI ± Cor- Boiroaa Am nia.»uia ... (12112 characters truncated) ... er la cura che prende Gei passeggiali ad essa affidati e della puntualità oal annunciare II loro arrivo a New York od a destinazione. / % NUMERO 140 ')\n",
      "(2199, \"L'Italia\\\\sn85066408_1903-06-13_ed-1_seq-1_ocr.txt\", '1903-06-13', 'sn85066408', \"L'Italia\", ' me xvu ClOFMALM rfftUANO FATTO SL\\'ITAUANt THE Il nmmr itauian daily parer j| om ree Pacific Coast H AUioii\\'. Patrizi ét Cr BRITU»A A»» PU1LIHHERH  ... (22012 characters truncated) ...  MI. DI arconti* inano fo in au. W. EVANS, Mente, lo» Market Mrrct. vicino alla Scala .traila. Abbonatevi ailTTALlA • fata abbo naia I vostri amici. ')\n",
      "(2200, \"L'Italia\\\\sn85066408_1903-06-15_ed-1_seq-1_ocr.txt\", '1903-06-15', 'sn85066408', \"L'Italia\", ' ANNO XVU GIORNALE ITALIANO FATTO PER GL\\'ITALIANI [FIRST ITALIAN DAILY RAT \\'*1 OH THZ PACIFIC COAJT J., \\'\\' ALMA9IA 1 , Patrizi a fi, ■ DITO» U1 P ... (15342 characters truncated) ...  la polizia dine chiamarsi Pietro AIHney(T) e d\\'essere stato obbligato a .compiere quell\\'atto. 81 crede pero ehm 111 disgraziato ala pezzo anm 14» ')\n",
      "(2201, \"L'Italia\\\\sn85066408_1903-06-16_ed-1_seq-1_ocr.txt\", '1903-06-16', 'sn85066408', \"L'Italia\", ' aitno xvii GIORNALE ITALIANO FATTO PCR GL’ITALIANI il _ thb Il rinsr ITALIAN DAILY PAPKn I || oh thb Pacific coast jj I Almauia-, Patrizi a Co., I i ... (17312 characters truncated) ... /J? VAVIOAS.ONE ITALIA*/*? ... * è©?» 5 - ’assnjsS ni »no m »u. yu fVAMt\\'É.-i* 1, “r»cl. »,ri IIO .Ita tEiu JJi;** 01 *- ,olt *•«*•» sull Bue \\'143 ')\n",
      "(2202, \"L'Italia\\\\sn85066408_1903-06-17_ed-1_seq-1_ocr.txt\", '1903-06-17', 'sn85066408', \"L'Italia\", ' ANN© XVII giornale italiano fatto per olttauani THE FIRST ITALIAN DAILY PAPER on th* Pacific Coast, • Almaoia-, Pathizi * ■OITOR8 ahi» PC Hl.inh A.  ... (22328 characters truncated) ...  spedire I telegrammi. Quanta risposta, aggiunse Chamber laln, fu Inviata alta Compagnia il 31 . Marzo ma essa non ba ancora replica Uà. «DB ERO 144 ')\n",
      "(2203, \"L'Italia\\\\sn85066408_1903-06-18_ed-1_seq-1_ocr.txt\", '1903-06-18', 'sn85066408', \"L'Italia\", ' ANXO XVII GIORNALE ITALIANO FATTO PER OL’ITALIANI THE t. fihst italian da. oh tmc Pacific Coa. • j Almagia-, Patrizi <* Co./ ID1TOXH and PUBLIHHRIR  ... (16434 characters truncated) ... sciabola 1 sottufficiali Felice Vita, ed Brente Ros so del lancieri Monte belio\". Il primo fu ferito al volto, Il secondo aH\\'avaaa» braccio destro. ')\n",
      "(2204, \"L'Italia\\\\sn85066408_1903-06-19_ed-1_seq-1_ocr.txt\", '1903-06-19', 'sn85066408', \"L'Italia\", ' anno xvn GIORNALE ITALIANO FATTO FER OLTTALIANI THE FIRST ITAUAN DAILY PAPER ON TH« Pacific Coast I Almaoia , Patbizi a Co., ! IDITOIR AMD rC»LIf*«i ... (20015 characters truncated) ... O CO.-OHIOLIMI KuKHl.hK - l\\'uitu farmacia italiana no. Gran dapMÉto di tutte le «pecialiià ita! franerai rd americane. Co*. Maia and btocktuu, Cai. ')\n",
      "(2205, \"L'Italia\\\\sn85066408_1903-06-20_ed-1_seq-1_ocr.txt\", '1903-06-20', 'sn85066408', \"L'Italia\", ' ANNO xvn <WHHAI,f ITALIANO PATTO PER GL\\'ITALIANI TMC FIRST ITAUAN DAILY PAPER on ths OAcme coast almaoia\\', Patbizi a Co., iditobi Am PVuiin» Tbb O ... (13694 characters truncated) ... ica farmacia italiana dell\\'late r> M. Gran deposito di tutte le specialità italiana, francesi ed americane. Ctu*. Maia and buttar 81% btocktou. CaL ')\n",
      "(2206, \"L'Italia\\\\sn85066408_1903-06-22_ed-1_seq-1_ocr.txt\", '1903-06-22', 'sn85066408', \"L'Italia\", ' anno XVII «(ORNALE ITALIANO FATTO PER GL\\'ITALIANI THB FIRST ITALIAN DAILY PAPER oh th« Pacific coast ALHiOlA\\', PATHIZl * CO., jj ■ditoms and puBLi ... (18560 characters truncated) ...  ricevuto con tutti gli ono . dopo II 1870. VIACOIATC «ni r: roncati IUMmI della Navigazione Generale Morte e Rabattino a et troverete bea» nummo im ')\n",
      "(2207, \"L'Italia\\\\sn85066408_1903-06-23_ed-1_seq-1_ocr.txt\", '1903-06-23', 'sn85066408', \"L'Italia\", ' «■ORNALE ITALIANO PATTO PER GL\\'ITALIANI ———— ii ■ t— THK FIRST ITALIAN ~aiLY PAPER OM-THC PAC p \\'» Aluàou-, Pi P. . BOKTORH AMD POBl. * ifoi- . TH ... (21836 characters truncated) ...  di una catastrofe. Con questo pallone si salirà sino alla cima del Monte Bianco.\" Abbonatevi nll\\'ITAUA a tato abM> oara 1 voetrl amici. NUBBBO 14» ')\n",
      "(2208, \"L'Italia\\\\sn85066408_1903-06-24_ed-1_seq-1_ocr.txt\", '1903-06-24', 'sn85066408', \"L'Italia\", ' «ORNALI ITALIANO PATTO PAR OLTTAUA4 THE FIRST ITALIAN DAILY PARER om tms Pacific Coast Albagia-, Patrizi a Co., ■ DITO!* AMD PVllIRlm The Only Ili.c ... (18242 characters truncated) ... no sommerse. Una nave da guerra Italiana e due francesi andarono In soccorso do gli Indigeni, e provvidero al loro biso gni più passanti. NUMERO ISO ')\n",
      "(2209, \"L'Italia\\\\sn85066408_1903-06-25_ed-1_seq-1_ocr.txt\", '1903-06-25', 'sn85066408', \"L'Italia\", ' «ORNAI.* ITALIANO FATTO FCR OLWTAUA4 THE fi. 2**1 FIRST IT ALIAR DAILY F#v ■ £ ON THK PACIFIC COAST al magia*. Patrizi a Co.. BD1TOBR AMO PVBLIKHKIR ... (19592 characters truncated) ... ARUBUNA. Per ulteriori Informazioni e biglietti rivolgerei uU\\'Agensia. ALMACilA’, PATHJBI * CO. • Affittì OMtnlk : Devotissimo Battole.\" MUHBRO 151 ')\n",
      "(2210, \"L'Italia\\\\sn85066408_1903-06-26_ed-1_seq-1_ocr.txt\", '1903-06-26', 'sn85066408', \"L'Italia\", ' «\\'ORMALA ITALIANO PATTO NR OLTTAUA4 PIRST ITALIAN DAILY PAPER j ON THl PACIFIC COAST ALHAUIA-. Patbizi <* Co.. ■ DITO!* and POBL1RHBI8 Tua Ostv Ili ... (20120 characters truncated) ... glro « sven ne. La notula diffusasi tosto In tsatre produsse grand» Impressione. Fortuna tamente la celebre artista non tardQ a riaversi. «UMBRO 158 ')\n",
      "(2211, \"L'Italia\\\\sn85066408_1903-06-27_ed-1_seq-1_ocr.txt\", '1903-06-27', 'sn85066408', \"L'Italia\", ' \"GIORNALE ITALIANO PATTO PER OLTTAUA4 TMB FIRST ITALIAN DAILY PARER OH th* Pacific Coast almaoia-. Patrizi <* Co.. ■ DITOR8 AND PVBLIHHim The Only I ... (20668 characters truncated) ... ltiHHfl «In NAI’OI.f. liKNOVA, n Ne» York, COSTA SOM |J« 60 col ben co nottcluU ttlruscafl dell» “VKIjOCB* NAVIGAZIONI!! 1TAUANA A VAPOR*. NUMERO Ut ')\n",
      "(2212, \"L'Italia\\\\sn85066408_1903-06-29_ed-1_seq-1_ocr.txt\", '1903-06-29', 'sn85066408', \"L'Italia\", ' «(ORNALE ITALIANO PATTO PER «L\\'ITALIA* THE riltST ITAUAN DAILY PAPER oh th* Pacific coast Almauia\\'. Patrizi a Co., ■ DITOKS AMD PUBURIMi TU* OnLV  ... (19500 characters truncated) ...  te fluirne «li NAPOLI. UÈNOYA. a New York CORTA HftU I30.S0 col h«n co. novelliti MroMeeff della “VKI/JOW* NAVIGAZIONE ITAUANA A VAPORA, NUMERO 154 ')\n"
     ]
    }
   ],
   "source": [
    "date_ref_1 = \"1903-6-6\"\n",
    "date_ref_2 = \"1903-6-29\"\n",
    "query = text(f\"SELECT * FROM sources WHERE date <= DATE '{date_ref_2}' AND date > DATE '{date_ref_1}'\")\n",
    "with engine.connect() as conn:\n",
    "    result = conn.execute(query)\n",
    "    for row in result:\n",
    "        print(row)"
   ]
  },
  {
   "cell_type": "code",
   "execution_count": 24,
   "metadata": {},
   "outputs": [],
   "source": [
    "df = pd.read_sql_query(query, engine)"
   ]
  },
  {
   "cell_type": "code",
   "execution_count": 25,
   "metadata": {},
   "outputs": [
    {
     "data": {
      "text/html": [
       "<div>\n",
       "<style scoped>\n",
       "    .dataframe tbody tr th:only-of-type {\n",
       "        vertical-align: middle;\n",
       "    }\n",
       "\n",
       "    .dataframe tbody tr th {\n",
       "        vertical-align: top;\n",
       "    }\n",
       "\n",
       "    .dataframe thead th {\n",
       "        text-align: right;\n",
       "    }\n",
       "</style>\n",
       "<table border=\"1\" class=\"dataframe\">\n",
       "  <thead>\n",
       "    <tr style=\"text-align: right;\">\n",
       "      <th></th>\n",
       "      <th>index</th>\n",
       "      <th>file_name</th>\n",
       "      <th>date</th>\n",
       "      <th>publication_ref</th>\n",
       "      <th>publication_name</th>\n",
       "      <th>file_content</th>\n",
       "    </tr>\n",
       "  </thead>\n",
       "  <tbody>\n",
       "    <tr>\n",
       "      <th>0</th>\n",
       "      <td>1</td>\n",
       "      <td>Cronaca_Sovversiva\\2012271201_1903-06-13_ed-1_...</td>\n",
       "      <td>1903-06-13</td>\n",
       "      <td>2012271201</td>\n",
       "      <td>Cronaca_Sovversiva</td>\n",
       "      <td>Ebdomadario anarchico di propaganda rivoluzio...</td>\n",
       "    </tr>\n",
       "    <tr>\n",
       "      <th>1</th>\n",
       "      <td>2</td>\n",
       "      <td>Cronaca_Sovversiva\\2012271201_1903-06-20_ed-1_...</td>\n",
       "      <td>1903-06-20</td>\n",
       "      <td>2012271201</td>\n",
       "      <td>Cronaca_Sovversiva</td>\n",
       "      <td>ANNO I. NUMERO 31 VVER Ebdomadario anarchico ...</td>\n",
       "    </tr>\n",
       "    <tr>\n",
       "      <th>2</th>\n",
       "      <td>3</td>\n",
       "      <td>Cronaca_Sovversiva\\2012271201_1903-06-27_ed-1_...</td>\n",
       "      <td>1903-06-27</td>\n",
       "      <td>2012271201</td>\n",
       "      <td>Cronaca_Sovversiva</td>\n",
       "      <td>Ebdomadàrio anarchico di propaganda rivoluzio...</td>\n",
       "    </tr>\n",
       "    <tr>\n",
       "      <th>3</th>\n",
       "      <td>2194</td>\n",
       "      <td>L'Italia\\sn85066408_1903-06-08_ed-1_seq-1_ocr.txt</td>\n",
       "      <td>1903-06-08</td>\n",
       "      <td>sn85066408</td>\n",
       "      <td>L'Italia</td>\n",
       "      <td>ANNO XY11 GIORNALE ITALIANO PATTO PER GL’ITAL...</td>\n",
       "    </tr>\n",
       "    <tr>\n",
       "      <th>4</th>\n",
       "      <td>2195</td>\n",
       "      <td>L'Italia\\sn85066408_1903-06-09_ed-1_seq-1_ocr.txt</td>\n",
       "      <td>1903-06-09</td>\n",
       "      <td>sn85066408</td>\n",
       "      <td>L'Italia</td>\n",
       "      <td>ANNO XY11 «(ORNALE ITALIANO FATTO PER GL’ITAL...</td>\n",
       "    </tr>\n",
       "    <tr>\n",
       "      <th>5</th>\n",
       "      <td>2196</td>\n",
       "      <td>L'Italia\\sn85066408_1903-06-10_ed-1_seq-1_ocr.txt</td>\n",
       "      <td>1903-06-10</td>\n",
       "      <td>sn85066408</td>\n",
       "      <td>L'Italia</td>\n",
       "      <td>ANNO xyu «•ONNAUK ITALIANO PATTO MR — i i PHO...</td>\n",
       "    </tr>\n",
       "    <tr>\n",
       "      <th>6</th>\n",
       "      <td>2197</td>\n",
       "      <td>L'Italia\\sn85066408_1903-06-11_ed-1_seq-1_ocr.txt</td>\n",
       "      <td>1903-06-11</td>\n",
       "      <td>sn85066408</td>\n",
       "      <td>L'Italia</td>\n",
       "      <td>AN3TO XVU GIORNALE ITALIANO FATTO FER GL'ITAL...</td>\n",
       "    </tr>\n",
       "    <tr>\n",
       "      <th>7</th>\n",
       "      <td>2198</td>\n",
       "      <td>L'Italia\\sn85066408_1903-06-12_ed-1_seq-1_ocr.txt</td>\n",
       "      <td>1903-06-12</td>\n",
       "      <td>sn85066408</td>\n",
       "      <td>L'Italia</td>\n",
       "      <td>AXNO XVU GIORNALE ITALIANO FATTO F*g OL'ITAUA...</td>\n",
       "    </tr>\n",
       "    <tr>\n",
       "      <th>8</th>\n",
       "      <td>2199</td>\n",
       "      <td>L'Italia\\sn85066408_1903-06-13_ed-1_seq-1_ocr.txt</td>\n",
       "      <td>1903-06-13</td>\n",
       "      <td>sn85066408</td>\n",
       "      <td>L'Italia</td>\n",
       "      <td>me xvu ClOFMALM rfftUANO FATTO SL'ITAUANt THE...</td>\n",
       "    </tr>\n",
       "    <tr>\n",
       "      <th>9</th>\n",
       "      <td>2200</td>\n",
       "      <td>L'Italia\\sn85066408_1903-06-15_ed-1_seq-1_ocr.txt</td>\n",
       "      <td>1903-06-15</td>\n",
       "      <td>sn85066408</td>\n",
       "      <td>L'Italia</td>\n",
       "      <td>ANNO XVU GIORNALE ITALIANO FATTO PER GL'ITALI...</td>\n",
       "    </tr>\n",
       "    <tr>\n",
       "      <th>10</th>\n",
       "      <td>2201</td>\n",
       "      <td>L'Italia\\sn85066408_1903-06-16_ed-1_seq-1_ocr.txt</td>\n",
       "      <td>1903-06-16</td>\n",
       "      <td>sn85066408</td>\n",
       "      <td>L'Italia</td>\n",
       "      <td>aitno xvii GIORNALE ITALIANO FATTO PCR GL’ITA...</td>\n",
       "    </tr>\n",
       "    <tr>\n",
       "      <th>11</th>\n",
       "      <td>2202</td>\n",
       "      <td>L'Italia\\sn85066408_1903-06-17_ed-1_seq-1_ocr.txt</td>\n",
       "      <td>1903-06-17</td>\n",
       "      <td>sn85066408</td>\n",
       "      <td>L'Italia</td>\n",
       "      <td>ANN© XVII giornale italiano fatto per olttaua...</td>\n",
       "    </tr>\n",
       "    <tr>\n",
       "      <th>12</th>\n",
       "      <td>2203</td>\n",
       "      <td>L'Italia\\sn85066408_1903-06-18_ed-1_seq-1_ocr.txt</td>\n",
       "      <td>1903-06-18</td>\n",
       "      <td>sn85066408</td>\n",
       "      <td>L'Italia</td>\n",
       "      <td>ANXO XVII GIORNALE ITALIANO FATTO PER OL’ITAL...</td>\n",
       "    </tr>\n",
       "    <tr>\n",
       "      <th>13</th>\n",
       "      <td>2204</td>\n",
       "      <td>L'Italia\\sn85066408_1903-06-19_ed-1_seq-1_ocr.txt</td>\n",
       "      <td>1903-06-19</td>\n",
       "      <td>sn85066408</td>\n",
       "      <td>L'Italia</td>\n",
       "      <td>anno xvn GIORNALE ITALIANO FATTO FER OLTTALIA...</td>\n",
       "    </tr>\n",
       "    <tr>\n",
       "      <th>14</th>\n",
       "      <td>2205</td>\n",
       "      <td>L'Italia\\sn85066408_1903-06-20_ed-1_seq-1_ocr.txt</td>\n",
       "      <td>1903-06-20</td>\n",
       "      <td>sn85066408</td>\n",
       "      <td>L'Italia</td>\n",
       "      <td>ANNO xvn &lt;WHHAI,f ITALIANO PATTO PER GL'ITALI...</td>\n",
       "    </tr>\n",
       "    <tr>\n",
       "      <th>15</th>\n",
       "      <td>2206</td>\n",
       "      <td>L'Italia\\sn85066408_1903-06-22_ed-1_seq-1_ocr.txt</td>\n",
       "      <td>1903-06-22</td>\n",
       "      <td>sn85066408</td>\n",
       "      <td>L'Italia</td>\n",
       "      <td>anno XVII «(ORNALE ITALIANO FATTO PER GL'ITAL...</td>\n",
       "    </tr>\n",
       "    <tr>\n",
       "      <th>16</th>\n",
       "      <td>2207</td>\n",
       "      <td>L'Italia\\sn85066408_1903-06-23_ed-1_seq-1_ocr.txt</td>\n",
       "      <td>1903-06-23</td>\n",
       "      <td>sn85066408</td>\n",
       "      <td>L'Italia</td>\n",
       "      <td>«■ORNALE ITALIANO PATTO PER GL'ITALIANI ———— ...</td>\n",
       "    </tr>\n",
       "    <tr>\n",
       "      <th>17</th>\n",
       "      <td>2208</td>\n",
       "      <td>L'Italia\\sn85066408_1903-06-24_ed-1_seq-1_ocr.txt</td>\n",
       "      <td>1903-06-24</td>\n",
       "      <td>sn85066408</td>\n",
       "      <td>L'Italia</td>\n",
       "      <td>«ORNALI ITALIANO PATTO PAR OLTTAUA4 THE FIRST...</td>\n",
       "    </tr>\n",
       "    <tr>\n",
       "      <th>18</th>\n",
       "      <td>2209</td>\n",
       "      <td>L'Italia\\sn85066408_1903-06-25_ed-1_seq-1_ocr.txt</td>\n",
       "      <td>1903-06-25</td>\n",
       "      <td>sn85066408</td>\n",
       "      <td>L'Italia</td>\n",
       "      <td>«ORNAI.* ITALIANO FATTO FCR OLWTAUA4 THE fi. ...</td>\n",
       "    </tr>\n",
       "    <tr>\n",
       "      <th>19</th>\n",
       "      <td>2210</td>\n",
       "      <td>L'Italia\\sn85066408_1903-06-26_ed-1_seq-1_ocr.txt</td>\n",
       "      <td>1903-06-26</td>\n",
       "      <td>sn85066408</td>\n",
       "      <td>L'Italia</td>\n",
       "      <td>«'ORMALA ITALIANO PATTO NR OLTTAUA4 PIRST ITA...</td>\n",
       "    </tr>\n",
       "    <tr>\n",
       "      <th>20</th>\n",
       "      <td>2211</td>\n",
       "      <td>L'Italia\\sn85066408_1903-06-27_ed-1_seq-1_ocr.txt</td>\n",
       "      <td>1903-06-27</td>\n",
       "      <td>sn85066408</td>\n",
       "      <td>L'Italia</td>\n",
       "      <td>\"GIORNALE ITALIANO PATTO PER OLTTAUA4 TMB FIR...</td>\n",
       "    </tr>\n",
       "    <tr>\n",
       "      <th>21</th>\n",
       "      <td>2212</td>\n",
       "      <td>L'Italia\\sn85066408_1903-06-29_ed-1_seq-1_ocr.txt</td>\n",
       "      <td>1903-06-29</td>\n",
       "      <td>sn85066408</td>\n",
       "      <td>L'Italia</td>\n",
       "      <td>«(ORNALE ITALIANO PATTO PER «L'ITALIA* THE ri...</td>\n",
       "    </tr>\n",
       "  </tbody>\n",
       "</table>\n",
       "</div>"
      ],
      "text/plain": [
       "    index                                          file_name        date   \n",
       "0       1  Cronaca_Sovversiva\\2012271201_1903-06-13_ed-1_...  1903-06-13  \\\n",
       "1       2  Cronaca_Sovversiva\\2012271201_1903-06-20_ed-1_...  1903-06-20   \n",
       "2       3  Cronaca_Sovversiva\\2012271201_1903-06-27_ed-1_...  1903-06-27   \n",
       "3    2194  L'Italia\\sn85066408_1903-06-08_ed-1_seq-1_ocr.txt  1903-06-08   \n",
       "4    2195  L'Italia\\sn85066408_1903-06-09_ed-1_seq-1_ocr.txt  1903-06-09   \n",
       "5    2196  L'Italia\\sn85066408_1903-06-10_ed-1_seq-1_ocr.txt  1903-06-10   \n",
       "6    2197  L'Italia\\sn85066408_1903-06-11_ed-1_seq-1_ocr.txt  1903-06-11   \n",
       "7    2198  L'Italia\\sn85066408_1903-06-12_ed-1_seq-1_ocr.txt  1903-06-12   \n",
       "8    2199  L'Italia\\sn85066408_1903-06-13_ed-1_seq-1_ocr.txt  1903-06-13   \n",
       "9    2200  L'Italia\\sn85066408_1903-06-15_ed-1_seq-1_ocr.txt  1903-06-15   \n",
       "10   2201  L'Italia\\sn85066408_1903-06-16_ed-1_seq-1_ocr.txt  1903-06-16   \n",
       "11   2202  L'Italia\\sn85066408_1903-06-17_ed-1_seq-1_ocr.txt  1903-06-17   \n",
       "12   2203  L'Italia\\sn85066408_1903-06-18_ed-1_seq-1_ocr.txt  1903-06-18   \n",
       "13   2204  L'Italia\\sn85066408_1903-06-19_ed-1_seq-1_ocr.txt  1903-06-19   \n",
       "14   2205  L'Italia\\sn85066408_1903-06-20_ed-1_seq-1_ocr.txt  1903-06-20   \n",
       "15   2206  L'Italia\\sn85066408_1903-06-22_ed-1_seq-1_ocr.txt  1903-06-22   \n",
       "16   2207  L'Italia\\sn85066408_1903-06-23_ed-1_seq-1_ocr.txt  1903-06-23   \n",
       "17   2208  L'Italia\\sn85066408_1903-06-24_ed-1_seq-1_ocr.txt  1903-06-24   \n",
       "18   2209  L'Italia\\sn85066408_1903-06-25_ed-1_seq-1_ocr.txt  1903-06-25   \n",
       "19   2210  L'Italia\\sn85066408_1903-06-26_ed-1_seq-1_ocr.txt  1903-06-26   \n",
       "20   2211  L'Italia\\sn85066408_1903-06-27_ed-1_seq-1_ocr.txt  1903-06-27   \n",
       "21   2212  L'Italia\\sn85066408_1903-06-29_ed-1_seq-1_ocr.txt  1903-06-29   \n",
       "\n",
       "   publication_ref    publication_name   \n",
       "0       2012271201  Cronaca_Sovversiva  \\\n",
       "1       2012271201  Cronaca_Sovversiva   \n",
       "2       2012271201  Cronaca_Sovversiva   \n",
       "3       sn85066408            L'Italia   \n",
       "4       sn85066408            L'Italia   \n",
       "5       sn85066408            L'Italia   \n",
       "6       sn85066408            L'Italia   \n",
       "7       sn85066408            L'Italia   \n",
       "8       sn85066408            L'Italia   \n",
       "9       sn85066408            L'Italia   \n",
       "10      sn85066408            L'Italia   \n",
       "11      sn85066408            L'Italia   \n",
       "12      sn85066408            L'Italia   \n",
       "13      sn85066408            L'Italia   \n",
       "14      sn85066408            L'Italia   \n",
       "15      sn85066408            L'Italia   \n",
       "16      sn85066408            L'Italia   \n",
       "17      sn85066408            L'Italia   \n",
       "18      sn85066408            L'Italia   \n",
       "19      sn85066408            L'Italia   \n",
       "20      sn85066408            L'Italia   \n",
       "21      sn85066408            L'Italia   \n",
       "\n",
       "                                         file_content  \n",
       "0    Ebdomadario anarchico di propaganda rivoluzio...  \n",
       "1    ANNO I. NUMERO 31 VVER Ebdomadario anarchico ...  \n",
       "2    Ebdomadàrio anarchico di propaganda rivoluzio...  \n",
       "3    ANNO XY11 GIORNALE ITALIANO PATTO PER GL’ITAL...  \n",
       "4    ANNO XY11 «(ORNALE ITALIANO FATTO PER GL’ITAL...  \n",
       "5    ANNO xyu «•ONNAUK ITALIANO PATTO MR — i i PHO...  \n",
       "6    AN3TO XVU GIORNALE ITALIANO FATTO FER GL'ITAL...  \n",
       "7    AXNO XVU GIORNALE ITALIANO FATTO F*g OL'ITAUA...  \n",
       "8    me xvu ClOFMALM rfftUANO FATTO SL'ITAUANt THE...  \n",
       "9    ANNO XVU GIORNALE ITALIANO FATTO PER GL'ITALI...  \n",
       "10   aitno xvii GIORNALE ITALIANO FATTO PCR GL’ITA...  \n",
       "11   ANN© XVII giornale italiano fatto per olttaua...  \n",
       "12   ANXO XVII GIORNALE ITALIANO FATTO PER OL’ITAL...  \n",
       "13   anno xvn GIORNALE ITALIANO FATTO FER OLTTALIA...  \n",
       "14   ANNO xvn <WHHAI,f ITALIANO PATTO PER GL'ITALI...  \n",
       "15   anno XVII «(ORNALE ITALIANO FATTO PER GL'ITAL...  \n",
       "16   «■ORNALE ITALIANO PATTO PER GL'ITALIANI ———— ...  \n",
       "17   «ORNALI ITALIANO PATTO PAR OLTTAUA4 THE FIRST...  \n",
       "18   «ORNAI.* ITALIANO FATTO FCR OLWTAUA4 THE fi. ...  \n",
       "19   «'ORMALA ITALIANO PATTO NR OLTTAUA4 PIRST ITA...  \n",
       "20   \"GIORNALE ITALIANO PATTO PER OLTTAUA4 TMB FIR...  \n",
       "21   «(ORNALE ITALIANO PATTO PER «L'ITALIA* THE ri...  "
      ]
     },
     "execution_count": 25,
     "metadata": {},
     "output_type": "execute_result"
    }
   ],
   "source": [
    "df"
   ]
  },
  {
   "cell_type": "code",
   "execution_count": 4,
   "metadata": {},
   "outputs": [
    {
     "ename": "IndexError",
     "evalue": "list index out of range",
     "output_type": "error",
     "traceback": [
      "\u001b[1;31m---------------------------------------------------------------------------\u001b[0m",
      "\u001b[1;31mIndexError\u001b[0m                                Traceback (most recent call last)",
      "Cell \u001b[1;32mIn[4], line 7\u001b[0m\n\u001b[0;32m      5\u001b[0m \u001b[39mfor\u001b[39;00m row \u001b[39min\u001b[39;00m result:\n\u001b[0;32m      6\u001b[0m     liss\u001b[39m.\u001b[39mappend(row)\n\u001b[1;32m----> 7\u001b[0m \u001b[39mprint\u001b[39m(liss[\u001b[39m-\u001b[39;49m\u001b[39m1\u001b[39;49m])\n",
      "\u001b[1;31mIndexError\u001b[0m: list index out of range"
     ]
    }
   ],
   "source": [
    "query = text(\"SELECT * FROM sources \")\n",
    "with engine.connect() as conn:\n",
    "    result = conn.execute(query)\n",
    "    liss=[]\n",
    "    for row in result:\n",
    "        liss.append(row)\n",
    "    print(liss[-1])"
   ]
  },
  {
   "cell_type": "code",
   "execution_count": 65,
   "metadata": {},
   "outputs": [
    {
     "data": {
      "text/plain": [
       "8652"
      ]
     },
     "execution_count": 65,
     "metadata": {},
     "output_type": "execute_result"
    }
   ],
   "source": [
    "liss[-1][0]"
   ]
  },
  {
   "cell_type": "code",
   "execution_count": 91,
   "metadata": {},
   "outputs": [
    {
     "data": {
      "text/plain": [
       "(8652, 'La_Tribuna_del_Connecticut\\\\sn92051386_1908-12-09_ed-1_seq-1_ocr.txt', '1908-12-09', 'sn92051386', 'La_Tribuna_del_Connecticut', ' Frasi d\\'avvoccaf o Àllà Camera francese si ri prende, di tanto in tanto, la discussione sulla pena di mor te, che alcuni vogliono abolita altri man ... (9819 characters truncated) ... TACV3PAT 5y - il 0 rai 5 5; \"j. \"V \"V V- 1 111 I, r ; l felli A ESTÉSI if i F! h ffii a - n nn n fp n p ppph n ran M S\\'. vM 0 1 000yy EASE IN suo 0 ')"
      ]
     },
     "execution_count": 91,
     "metadata": {},
     "output_type": "execute_result"
    }
   ],
   "source": [
    "liss[-1]"
   ]
  },
  {
   "cell_type": "code",
   "execution_count": 5,
   "metadata": {},
   "outputs": [],
   "source": [
    "query = text(\"SELECT * FROM sources WHERE date ='1917-04-25'\")\n",
    "with engine.connect() as conn:\n",
    "    result = conn.execute(query)\n",
    "lis=[]\n",
    "for row in result:\n",
    "    lis.append(row)\n"
   ]
  },
  {
   "cell_type": "code",
   "execution_count": 6,
   "metadata": {},
   "outputs": [
    {
     "data": {
      "text/plain": [
       "[]"
      ]
     },
     "execution_count": 6,
     "metadata": {},
     "output_type": "execute_result"
    }
   ],
   "source": [
    "lis"
   ]
  },
  {
   "cell_type": "code",
   "execution_count": 134,
   "metadata": {},
   "outputs": [
    {
     "ename": "ResourceClosedError",
     "evalue": "This result object does not return rows. It has been closed automatically.",
     "output_type": "error",
     "traceback": [
      "\u001b[1;31m---------------------------------------------------------------------------\u001b[0m",
      "\u001b[1;31mResourceClosedError\u001b[0m                       Traceback (most recent call last)",
      "Cell \u001b[1;32mIn[134], line 5\u001b[0m\n\u001b[0;32m      3\u001b[0m \u001b[39mwith\u001b[39;00m engine\u001b[39m.\u001b[39mconnect() \u001b[39mas\u001b[39;00m connection: \n\u001b[0;32m      4\u001b[0m     result \u001b[39m=\u001b[39m connection\u001b[39m.\u001b[39mexecute(query)\n\u001b[1;32m----> 5\u001b[0m     my_dict \u001b[39m=\u001b[39m \u001b[39mdict\u001b[39;49m(result)\n\u001b[0;32m      6\u001b[0m     \u001b[39mprint\u001b[39m(my_dict)\n",
      "File \u001b[1;32mi:\\DS\\Projet\\MLOps-TopicModeling\\Topic\\lib\\site-packages\\sqlalchemy\\engine\\result.py:909\u001b[0m, in \u001b[0;36m_WithKeys.keys\u001b[1;34m(self)\u001b[0m\n\u001b[0;32m    892\u001b[0m \u001b[39mdef\u001b[39;00m \u001b[39mkeys\u001b[39m(\u001b[39mself\u001b[39m) \u001b[39m-\u001b[39m\u001b[39m>\u001b[39m RMKeyView:\n\u001b[0;32m    893\u001b[0m \u001b[39m    \u001b[39m\u001b[39m\"\"\"Return an iterable view which yields the string keys that would\u001b[39;00m\n\u001b[0;32m    894\u001b[0m \u001b[39m    be represented by each :class:`_engine.Row`.\u001b[39;00m\n\u001b[0;32m    895\u001b[0m \n\u001b[1;32m   (...)\u001b[0m\n\u001b[0;32m    907\u001b[0m \n\u001b[0;32m    908\u001b[0m \u001b[39m    \"\"\"\u001b[39;00m\n\u001b[1;32m--> 909\u001b[0m     \u001b[39mreturn\u001b[39;00m \u001b[39mself\u001b[39;49m\u001b[39m.\u001b[39;49m_metadata\u001b[39m.\u001b[39;49mkeys\n",
      "File \u001b[1;32mi:\\DS\\Projet\\MLOps-TopicModeling\\Topic\\lib\\site-packages\\sqlalchemy\\engine\\cursor.py:1366\u001b[0m, in \u001b[0;36m_NoResultMetaData.keys\u001b[1;34m(self)\u001b[0m\n\u001b[0;32m   1364\u001b[0m \u001b[39m@property\u001b[39m\n\u001b[0;32m   1365\u001b[0m \u001b[39mdef\u001b[39;00m \u001b[39mkeys\u001b[39m(\u001b[39mself\u001b[39m):\n\u001b[1;32m-> 1366\u001b[0m     \u001b[39mself\u001b[39;49m\u001b[39m.\u001b[39;49m_we_dont_return_rows()\n",
      "File \u001b[1;32mi:\\DS\\Projet\\MLOps-TopicModeling\\Topic\\lib\\site-packages\\sqlalchemy\\engine\\cursor.py:1338\u001b[0m, in \u001b[0;36m_NoResultMetaData._we_dont_return_rows\u001b[1;34m(self, err)\u001b[0m\n\u001b[0;32m   1337\u001b[0m \u001b[39mdef\u001b[39;00m \u001b[39m_we_dont_return_rows\u001b[39m(\u001b[39mself\u001b[39m, err\u001b[39m=\u001b[39m\u001b[39mNone\u001b[39;00m):\n\u001b[1;32m-> 1338\u001b[0m     \u001b[39mraise\u001b[39;00m exc\u001b[39m.\u001b[39mResourceClosedError(\n\u001b[0;32m   1339\u001b[0m         \u001b[39m\"\u001b[39m\u001b[39mThis result object does not return rows. \u001b[39m\u001b[39m\"\u001b[39m\n\u001b[0;32m   1340\u001b[0m         \u001b[39m\"\u001b[39m\u001b[39mIt has been closed automatically.\u001b[39m\u001b[39m\"\u001b[39m\n\u001b[0;32m   1341\u001b[0m     ) \u001b[39mfrom\u001b[39;00m \u001b[39merr\u001b[39;00m\n",
      "\u001b[1;31mResourceClosedError\u001b[0m: This result object does not return rows. It has been closed automatically."
     ]
    }
   ],
   "source": [
    "query = text(\"INSERT INTO sources (file_name,file_content,date,publication_name,publication_ref) VALUES ('La_Tribuna_del_Connecticut\\\\sn92051386_1908-12-20_ed-1_seq-1_ocr.txt','something','1908-12-20','La_Tribuna_del_Connecticut','sn92051386')\")\n",
    "    \n",
    "with engine.connect() as connection: \n",
    "    result = connection.execute(query)\n",
    "    \n"
   ]
  },
  {
   "cell_type": "code",
   "execution_count": 153,
   "metadata": {},
   "outputs": [
    {
     "name": "stdout",
     "output_type": "stream",
     "text": [
      "(8655,)\n"
     ]
    }
   ],
   "source": [
    "query = text('SELECT COUNT(*) FROM sources')\n",
    "with engine.connect() as conn:\n",
    "    result = conn.execute(query)\n",
    "    for row in result:\n",
    "        print(row)"
   ]
  },
  {
   "cell_type": "code",
   "execution_count": 110,
   "metadata": {},
   "outputs": [
    {
     "ename": "ObjectNotExecutableError",
     "evalue": "Not an executable object: 'SELECT LAST_INSERT_ID'",
     "output_type": "error",
     "traceback": [
      "\u001b[1;31m---------------------------------------------------------------------------\u001b[0m",
      "\u001b[1;31mAttributeError\u001b[0m                            Traceback (most recent call last)",
      "File \u001b[1;32mi:\\DS\\Projet\\MLOps-TopicModeling\\Topic\\lib\\site-packages\\sqlalchemy\\engine\\base.py:1408\u001b[0m, in \u001b[0;36mConnection.execute\u001b[1;34m(self, statement, parameters, execution_options)\u001b[0m\n\u001b[0;32m   1407\u001b[0m \u001b[39mtry\u001b[39;00m:\n\u001b[1;32m-> 1408\u001b[0m     meth \u001b[39m=\u001b[39m statement\u001b[39m.\u001b[39;49m_execute_on_connection\n\u001b[0;32m   1409\u001b[0m \u001b[39mexcept\u001b[39;00m \u001b[39mAttributeError\u001b[39;00m \u001b[39mas\u001b[39;00m err:\n",
      "\u001b[1;31mAttributeError\u001b[0m: 'str' object has no attribute '_execute_on_connection'",
      "\nThe above exception was the direct cause of the following exception:\n",
      "\u001b[1;31mObjectNotExecutableError\u001b[0m                  Traceback (most recent call last)",
      "Cell \u001b[1;32mIn[110], line 3\u001b[0m\n\u001b[0;32m      1\u001b[0m \u001b[39mwith\u001b[39;00m engine\u001b[39m.\u001b[39mconnect() \u001b[39mas\u001b[39;00m connection:\n\u001b[0;32m      2\u001b[0m      connection\u001b[39m.\u001b[39mexecute(query) \n\u001b[1;32m----> 3\u001b[0m      last_insert_id \u001b[39m=\u001b[39m connection\u001b[39m.\u001b[39;49mexecute(\u001b[39m\"\u001b[39;49m\u001b[39mSELECT LAST_INSERT_ID\u001b[39;49m\u001b[39m\"\u001b[39;49m)\u001b[39m.\u001b[39mfetchone()[\u001b[39m0\u001b[39m] \n",
      "File \u001b[1;32mi:\\DS\\Projet\\MLOps-TopicModeling\\Topic\\lib\\site-packages\\sqlalchemy\\engine\\base.py:1410\u001b[0m, in \u001b[0;36mConnection.execute\u001b[1;34m(self, statement, parameters, execution_options)\u001b[0m\n\u001b[0;32m   1408\u001b[0m     meth \u001b[39m=\u001b[39m statement\u001b[39m.\u001b[39m_execute_on_connection\n\u001b[0;32m   1409\u001b[0m \u001b[39mexcept\u001b[39;00m \u001b[39mAttributeError\u001b[39;00m \u001b[39mas\u001b[39;00m err:\n\u001b[1;32m-> 1410\u001b[0m     \u001b[39mraise\u001b[39;00m exc\u001b[39m.\u001b[39mObjectNotExecutableError(statement) \u001b[39mfrom\u001b[39;00m \u001b[39merr\u001b[39;00m\n\u001b[0;32m   1411\u001b[0m \u001b[39melse\u001b[39;00m:\n\u001b[0;32m   1412\u001b[0m     \u001b[39mreturn\u001b[39;00m meth(\n\u001b[0;32m   1413\u001b[0m         \u001b[39mself\u001b[39m,\n\u001b[0;32m   1414\u001b[0m         distilled_parameters,\n\u001b[0;32m   1415\u001b[0m         execution_options \u001b[39mor\u001b[39;00m NO_OPTIONS,\n\u001b[0;32m   1416\u001b[0m     )\n",
      "\u001b[1;31mObjectNotExecutableError\u001b[0m: Not an executable object: 'SELECT LAST_INSERT_ID'"
     ]
    }
   ],
   "source": [
    "with engine.connect() as connection:\n",
    "     connection.execute(query) \n",
    "     last_insert_id = connection.execute(\"SELECT LAST_INSERT_ID\").fetchone()[0] \n",
    " "
   ]
  },
  {
   "cell_type": "code",
   "execution_count": 135,
   "metadata": {},
   "outputs": [],
   "source": [
    "query = text(\"INSERT INTO sources (file_name,file_content,date,publication_name,publication_ref) VALUES ('a','a','a','a','a')\")\n",
    "    \n",
    "with engine.connect() as connection: \n",
    "    result = connection.execute(query)\n",
    "    \n"
   ]
  },
  {
   "cell_type": "code",
   "execution_count": 150,
   "metadata": {},
   "outputs": [],
   "source": [
    "file_name = 'b'\n",
    "file_content= 'b'\n",
    "date= 'b'\n",
    "publication_name= 'b'\n",
    "publication_ref= 'b'"
   ]
  },
  {
   "cell_type": "code",
   "execution_count": 158,
   "metadata": {},
   "outputs": [
    {
     "name": "stdout",
     "output_type": "stream",
     "text": [
      "1 Record inserted successfully into Laptop table\n"
     ]
    }
   ],
   "source": [
    "import mysql.connector\n",
    "\n",
    "#query = text(\"INSERT INTO sources (file_name,file_content,date,publication_name,publication_ref) VALUES ('a','a','a','a','a')\")\n",
    "connection = mysql.connector.connect(username=\"root\",\n",
    "    password=\"password\",\n",
    "    host=\"localhost\",\n",
    "    database=\"DB\"\n",
    "    )\n",
    "query = f\"\"\"INSERT INTO sources (file_name,file_content,date,publication_name,publication_ref) VALUES ('{file_name}','{file_content}','{date}','{publication_name}','{publication_ref}')\"\"\"\n",
    "cursor = connection.cursor()\n",
    "cursor.execute(query)\n",
    "connection.commit()\n",
    "cursor.close()\n",
    "print(cursor.rowcount, \"Record inserted successfully into Laptop table\")\n"
   ]
  },
  {
   "attachments": {},
   "cell_type": "markdown",
   "metadata": {},
   "source": [
    "#Syntaxe correcte pour ajouter des données dans database "
   ]
  },
  {
   "cell_type": "code",
   "execution_count": null,
   "metadata": {},
   "outputs": [],
   "source": [
    "import mysql.connector\n",
    "\n",
    "try:\n",
    "    connection = mysql.connector.connect(host='localhost',\n",
    "                                         database='electronics',\n",
    "                                         user='pynative',\n",
    "                                         password='pynative@#29')\n",
    "\n",
    "    mySql_insert_query = \"\"\"INSERT INTO Laptop (Id, Name, Price, Purchase_date) \n",
    "                           VALUES \n",
    "                           (15, 'Lenovo ThinkPad P71', 6459, '2019-08-14') \"\"\"\n",
    "\n",
    "    cursor = connection.cursor()\n",
    "    cursor.execute(mySql_insert_query)\n",
    "    connection.commit()\n",
    "    print(cursor.rowcount, \"Record inserted successfully into Laptop table\")\n",
    "    cursor.close()\n",
    "\n",
    "except mysql.connector.Error as error:\n",
    "    print(\"Failed to insert record into Laptop table {}\".format(error))\n",
    "\n",
    "finally:\n",
    "    if connection.is_connected():\n",
    "        connection.close()\n",
    "        print(\"MySQL connection is closed\")"
   ]
  },
  {
   "cell_type": "code",
   "execution_count": 204,
   "metadata": {},
   "outputs": [],
   "source": [
    "date = '1930-12-20'"
   ]
  },
  {
   "cell_type": "code",
   "execution_count": 208,
   "metadata": {},
   "outputs": [
    {
     "data": {
      "text/plain": [
       "[(8469, 'La_Sentinella\\\\sn84020351_1930-12-20_ed-1_seq-1_ocr.txt', '1930-12-20', 'sn84020351', 'La_Sentinella', ' C\\'è ancora da combattere da soffrire, da vincere. CARDUCCI. Muoviamoci! Notiamo con vero rammarico che nella terri- bile crisi economica che attrav ... (20391 characters truncated) ... r. Rogers forgot that two years 7. o v ?,go. they betl?yed Judge Pallotti and this, time got a dose of (Continua a pag. 2.a) , their own medicine. , ')]"
      ]
     },
     "execution_count": 208,
     "metadata": {},
     "output_type": "execute_result"
    }
   ],
   "source": [
    "query = text(f\"SELECT * FROM sources WHERE date ='{date}'\")\n",
    "with engine.connect() as conn:\n",
    "    result = conn.execute(query)\n",
    "lis=[]\n",
    "for row in result:\n",
    "    lis.append(row)\n",
    "lis"
   ]
  },
  {
   "cell_type": "code",
   "execution_count": 200,
   "metadata": {},
   "outputs": [
    {
     "data": {
      "text/plain": [
       "6"
      ]
     },
     "execution_count": 200,
     "metadata": {},
     "output_type": "execute_result"
    }
   ],
   "source": [
    "len(lis)\n",
    "len(lis[0])"
   ]
  },
  {
   "cell_type": "code",
   "execution_count": 215,
   "metadata": {},
   "outputs": [
    {
     "data": {
      "text/plain": [
       "'La_Sentinella\\\\sn84020351_1930-12-20_ed-1_seq-1_ocr.txt'"
      ]
     },
     "execution_count": 215,
     "metadata": {},
     "output_type": "execute_result"
    }
   ],
   "source": [
    "lis[0][1]"
   ]
  },
  {
   "cell_type": "code",
   "execution_count": 218,
   "metadata": {},
   "outputs": [],
   "source": [
    "text=[]\n",
    "file_name =[]\n",
    "for i in range (len(lis)):    \n",
    "    text.append(lis[i][5])\n",
    "for i in range (len(lis)): \n",
    "    file_name.append(lis[i][1])\n",
    "dic = { file_name[i] : text[i]  for i in range (len(lis))}"
   ]
  },
  {
   "cell_type": "code",
   "execution_count": 219,
   "metadata": {},
   "outputs": [
    {
     "data": {
      "text/plain": [
       "{'La_Sentinella\\\\sn84020351_1930-12-20_ed-1_seq-1_ocr.txt': ' C\\'è ancora da combattere da soffrire, da vincere. CARDUCCI. Muoviamoci! Notiamo con vero rammarico che nella terri- bile crisi economica che attraversiamo, la nostra Colonia, come ente, non s\\'è dimostrata, nè si di mostra all\\'altezza della situazione. Mentre nelle altre comunità, i nostri conna zionali, più o meno benestanti, organizzano comi- jn 4?,-i; a; v,n.ini; o. gnore, e quel giorno brillerà di! ARTICOLO DEL REV. PROF. E. IASIELLO \"Il venturo Re venite, adoriamo! Rallegratevi, o figlie di Sion; esulta di gioia, o progenie di pienezza Cosi il verbo scendeva dal , Cielo, e per Maria, vergine puris sima d\\'ogni grazia eletta, nasce va ignorato, povero, derelitto rrandissima luce, stilleranno dol- I nella solitaria canarina il Reden- mente risentono i disastrosi effetti della disOCCU- cezza i monti, e dai colli fluirà j tore del mondo. Cosi rinnovavasi l\\'altissimo prodigio dell\\'onnipotenza divina in un singolare, ammirabile av vicinamento di fatti e d\\'idee, e l\\'Antico Testamento che si apre col Fiat lux pronunziato dal Si- jgnore fra le tenebre del caos, si chiude col Lux fugebit che, pazione, qui, rimaniamo manierem;i come se ìa l\\'g David rinno \"Città dei Parchi\" non fosse affatto colpita dalla verà ia terra. \\' bufera ecopomica che si e abbattuta sul mondo intero paralizzandolo. Eppure, nel passato e non una volta sola E\\' il Natale che santifica la povertà e glorifica insieme la canta. La santificazione della pover tà avviene nella grotta di Bethlehem, ove un Dio rivestito di umane spoglie, nell\\'estremo dell\\'abbiezione e della, miseria, fra i rigori del verno e lo squal lore del presepe nasce ignobile e derelitto, ripetendo coi dolorosi Lno il loro nido, le fiere dei boschi le loro tane, ma il Fighuol del l\\'uomo non ha pietre su cui posa re il capo\". La glorificazione della carità si compie nella benedetta capanna notte di Natale, e la luce sfolgora : di Ef rata, ove traggono esultanti ed irradia gli albori dell\\'universo \\' i pastori a sollevare l\\'indigenza 11 J .!- J Ji 1 T-Vi ? T f A 11 j e gii aiuon mistici aena vita ai ai uivino ìnianie cona pietosa eterna salute, nscintillando sulla elemosina degli umili doni cuna dell\\'umanità e sulla cuna D\\'allora passarono i secoli, si del Dio incarnato, simbolo della mutarono le genti, ma il patto gloria celeste. \" supremo della misericordia e E\\' Natale! E\\' l\\'alba radiosa dell\\'amore non si è infranto del giorno più santo consacrato giammai. Predicato dal Cristo al più grande, al più dolce mi- colla sua dottrina e coi suoi mi stero della Religione, dedicato ai racoli, suggellato coll\\'altissimo più gentili affetti della casa e del- sacrificio della Croce, esso è l\\'in O GESÙ\\': dove nascesti in nudo e freddo ostello, placido asinelio simbolo dr modesta \\'pjovgrta, di pàcèldi perdono\\' e óumiìtà : La sua venuta sarà come prin cipio dèi giorni eterni: risorgerà la giustizia ed Egli sarà glorifi cato nel mondo intero: tutti i , -.re i- -.. ii il ovj v i din uditi wllìx iu auuicidu- uiuuue CUI- I4UA lugcun Clic, la Colonia dette prova del SUO CUOre nobile e ma- no tutti j popoli gli saranno ser-1 inaugurando il Testamento Nuo- 1 \" Jl 11 - - 1 ÙJ! \\' J Tl 1 J 5. 1 ! 1 1 1 1 1-11 ornammo. CHI soccorrere ea alleviare le SOliereiJZtJ vi, ea rgu auignaen ia pace vo, riscmara ie leneore aena dei meno fortunati, venuta- Cn ft e SUa Ricordiamo a titolo d\\'onore l\\'ottimo lavoro mlp compiuto dall\"\\'Italian Welfare Committee\", eh lO messa di Dio fatta al colpevole nato subito dopo la guerra dal Comitato \"Pro- Adamo tra le delizie dell\\'Eden Patria\\'\\', con alla testa il bravo connazionale Luigi S a volti jSr2Sffi Manzi, ebbe per diversi anni CUra del prQgTeSSQ terra, si elevava, nell\\'attesa di morale e sociale della nostra razza in questo .gkX1150 di paese, ! \"Si rallegrano i cieli ed esulti . , , la terra; si levino all\\'Altissimo la famiglia, reso ancora più lier distruttibile anello che avvinse in igrtunaxamente quei vuuviw se .ne inun, e ristessa sorte toccò, poco tempo doporanche al 2? ra buona, umanitaria e patriottica esplicò a bene- 8 z5Y jl M . IH tivi del 1920-1921. f Se uno di questi due Comitati fosse rimasto in vita fino ad oggi, ora i nostri connazionali biso gnosi, se non tutti, almeno una buonaparte, non immagiriate quanto prestigio è quanta dignità avrebbe guadagnato l\\'elemento italiano. E\\' oramai tempo che ci mettiamo in testa di fare noi stessi quello che ci aspettiamo dagli altri. 7 In considerazione dunque, del principio che noi Italiani dobbiamo aiutarci da soli, non possia mo se non \\'esaltare1 di vero cuore e con i migliori sentimenti, là prova di solidarietà e di carità che in guesti giorni stanno dando le nostre Asso ciioi,1 irgl\\' le cjudU si istingopo piriti e po yri, la; Gortlokm, i Subaipitìo Glufe, la Faetarià, Il \"Qui yiye Qlulrf\\' che fanpò elei grandi fprzi af f ijigh -almeiip nlg imminenti fgst Natalizie, le famiglie pifi bisognose ciglia colonia non avessero a. mancare 4el necessari, Àncora una volta queste mai abbastanza vili pese \"foglie secche\" della nostra vita d\\'immigrati, Lg: danno l\\'esempio e mostrano la via da seguire an- che nei.tempi tristi. Ancora una volta, benché se- \\' paratamente le nostre Associazioni, chiamano l\\'attenzione della massa di rivolgere il suo pen siero alle vittime dell\\'attuale depressione, se vo gliamo vincere la nostra battaglia d\\'Italianità in America. ì - Oggi di raziza \"rodio e l\\'ingordigia vana dell\\'oro avara cupidigia insanguinan le vie della città, che santa fatta avea la tua bontà! La politica volle della guerra, dettar la legge a la tua santa terra, che sede esser dovea di santità per la tua fede e tua carità; e a soddisfar la stirpe araba ardita e in pari tempo il furbo Israelita, diede a John Bull la piena autorità di governare e stabilirsi là. Ringraziam perciò l\\'Americano,, di sogni e d\\'ideai rigonfio eT vanb, che il1 móndo intero pure, di salvar i quattordici punti eJbbg a dettar 1 Af sacco tenne pian la furberia del gallo ardito e la gran bonomia di chi d\\'Orlando il nome sol portò, che di coraggio Dio non lo dotò Jonh Bull di terre ognora desioso volle mostrarsi alquanto, generoso e una patria di Giuda alla tribù promise e di parole largo fu; Ma quelli sono stati ben giuocati, come lo fummo noi dagli alleati: e il sangue è corso e ancor ne correrà finché giustizia alfin non si farà Vediam cosi dopo tant\\'anni ripertersi gli orrori ed i malanni, che quella terra santa un di\\' provar quando varcaro i Crociati il mar ! E dopo mille anni e tante guerre, che di sangue macchiar le sacre, tgrrg, mentre nei tempio\\' prega Qàppuccin. \\' dal\\' màrétp grda \" \\'Muezzin i E Turchi Orecl e Franchi e Mussulmani e Bulgari ed Inglesi e Italiani ne la gran JCesta \"de VÙffianità mercaiteggian persin la santità! O Gesù mio, che tra paglia e fieno jareferisti venir, di grazie pieno, , òndè esempio di pace e di lavor dare agli umani, con divino amor, perchè questi moderni cristiani, peggiori dei vecchi pubblicani, non vuoi con lo scudiscio tu sferzar e dal Tempio non cerchi di scacciar?! Tu speri nel perdono e nell\\'amore, che si cambi dell\\'uomo il duro cuore e speri che alla fin l\\'Umanità ritorni al regno de a carità !...... Divino sógno che nel Gigi si vide arinngcenti anifh sorride! Sia questo il sogno di chi soffre ancor, di phi ha fame, pene ed ha dolor! Lasciamo allora i despoti e i potenti e abbracciamo gli umili e i pezzenti; e festeggiamo il tuo Natale, Gesù, con quella fede, che portasti Tu Sia la festa placida e quieta con quella vera musica, che allieta: risa di bimbi, che non sanno ancor tristezze, nè ricorsi, nè dolor: Di pochi soldi un albereLdi pino e cf- stella un cereo lumicino, che siafguida a\\' Magi cavalier verso il presepe al rustico sentier; La calza appesa al rozzo caminetto, del modesto a noi caro avito tetto, che promessa di strenne è a\\' bambini onde ansiosi aspettano il mattin.... Ecco il tuo vero Iatal senza rimpianti, senza tQrbide\\'gigie e senza pianti: Nàtale di dfcèza e di virtù, . come Tu vuoi, o caro mio Gesù Comprendiamo ch i piccoli singoli frzi .. delle nostrg Associazioni jion potranno neppure lontanamente alleviare la presente grave situa zione, nè riusciranno cosi efficaci come se fossero fatti uniti. Ma la nobile prova che esse danno, dovrebbe inspirare tutte le energie coloniali a muoversi e ad agire per il bene di\\' chi soffre. Nè ci mancano i mezzi per riaffermare la tra dizioni di razza. Abbiamo una classe eletta di pro fessionisti, $i banchieri, di contrattgri, (li cgmmer canti che potrebbero cooperare in un movimento eli benef iciepza senza grandi sforzi e senza dan neggiare i propri affari. Siamo sicuri che la massa li seguirebbe, perchè la sventura è profon damente sentita da essa, la di cui maggioranza è continuamente esposta al pericolo di essere get tata sul lastrico.\" Basta che qualcuno delle per sone più o mene benestanti ne prenda l\\'iniziativa. Conoscitori a fondo del cuore della colonia credia mo che l\\'opera non riuscirebbe ardua. Muoviamoci! E, nella speranza che questo vitale argomen to sia il soggetto dei conviti Natalizi, di vero cuore VI auguro Buon Natale e Buon principio d\\'Anno. l\\'Eterno, mosso a pietà dei suoi adorando Colui, che nacque co- 14- \\' uciic ouo lavi mie vi i j ni vdu ii\\' r ranco Altieri. \\'pentimento e di speranza, di do- biezione. Poiché il Signore nostro verrà e si prenderà compassione dei suoi poverelli: Egli spezzerà il giogo della nostra schiavitù. T\\'affretta a liberarci, o Signo re; Dio d\\'ogni virtù che siedi sopra i Cherubini, scQpri a tua faccia, e\" sarm sollevati, e sarà conosciuta la tua pietà verso gli uomini. Vieni a visitarci pacifi camente, affinchè possiamo giubilale-aì tuo cospetto nella pu reziacdel cuore, T,U ti diffonderai tra noi, o Salienza, che esalasti dalla boc ca del Padre, tutto riunendo in Te, e, con fortezza e dolcezza di sponendo ogni cosa, c\\'insegnerai il cammino della prudenza. O radice di Jesse, che stai se gnacolo ai popoli, dinanzi al qua le ammutoliranno i Re e suppli cheranno le genti, vieni e salva l\\'uomo che colle tue mani pla smasti. 0 Oriente! splendore di luce eterna: Sole di giustizia e di ve rità, sorgi e sgombra queste nebbie mortali che ci avvincono. I tb dall\\'allegria dei. bimbi, dall\\'in timità del focolare domestico, dalla quiete dei lari paterni, be nedetto dai vecchi genitori, al lietato dalle memorie dell\\'in fanzia e dalle rimembranze del l\\'adolescenza quando, Vinnqcente fede ce 1q rendeva tanto caro e tanto, giocondo, E,\\' la festa della cristiana poe sia, del tronco nodoso di ceppo che arde nel marmoreo camino nelle ampie sale degli aristocra tici, lumeggiando d\\'un rossiccio chiarore l\\'albero di Natale trion fante al posto d\\'onore carico di mille doni graziosi e svariati ; che scoppietta con irrequieta giaiez LUIGI VAMPA gemmea, fiorita catena V cuori dei credenti sparsi in ogni terr; dell\\'orbe redento. Dolce compagna della fede, li carità mitiga le pene di chi sof fre, e a lei guardando il povere si raceonsola, trovando nella ras segnazione coraggio e fiducia. Amica soave della speranza essa germoglia dalle lacrime e s\" espande in un sorriso. Tacita, non chiassosa; lieta non tripudiante; raccolta, noi indiscreta, eleva e non abbassr nobilita e non avvilisce, rassere na e non turba. La si direbbe più felice zuccia a terreno, nell opaca luce della mal riparata soffitta, sul l\\'angusto davanzale della fine stra, i ramoscelli di agrifogli intristiti, le poche figurine di gesso che attorniano la capan nuccia dove la statuetta del Bambino Gesù, posato su ruvido fieno attira gli sguardi dei fan Cosi l\\'umanità tutta tendeva ciulh, che giungono le manine ; suddIìcì le palme all\\'Eterno, e , illividite dal Ireddo, teneramente \\' nrperhì v dpllf sup. lacrime di m\\'essi nell indiffenza e nell a o-oWV& December -2TI - OFFICE: 641 EAST WASHINGTON AVE PHONE 4-8031 SKIDUEPOKT, CONN,. SABATO 20 DICEMBRE 1930 No. 5X ANNO XVII 7 ; You can fool some of the people all of the time and you can fool all the people some of . the, time. , but you can\\'t fool all of -the people all of the time. LINCOLN. ITALIAN WEEKLY NEWSPAPER P. ALTIERI, Editor R. L. VOLPE, Mgr. Subscription $2.00 per Year Entered as second class matter, October 21 1914, at Post Office at Bridgeport, Conn, under the Act of March 3, 1879 Single Copy 6 Cts. N A A ai E fnf Hi hprmfiVpn7,a P fanno a Sara ner venire in Gerosolima: ecco venire il Si- e Signore, lore e di amore, nella dei tempi l\\'esaudiva. \" J 1 .\\'\\'lo 4-4- - -v iv \"ì f\"Ì rnviVi A il T\"i-v nm o vagiti: \"Gli uccelli dell\\'aria han 1930 tra il mite bove e il Christmas inni di lode. Christmas is upon us once -again. Another milestone in the varied journeys that; we take as we press on to varied goals. The years no longer loaf in their passing as they did when we were children. They speed by now and leave their marks upon us. So busy are our hands and heads in the eternal task of finding means to provide food and warmth and shelter, that time has become a mill-race that sweeps us on to the end of our course. There are many stations along the way. And the most hopeful of all them is Christmas, for it is the Christmas spirit that descends upon us and saves us from ourselves. The grind \"of business wearies our brains. The dissapointments make heavy our hearts. The greet we nurture within us makes us selfish. Our ego,\\' prompted by our yearnings, destroys our concern for others. And then comes Christmas and purges us of our hates and our lack of faith in our kind. Without this season of goodwill we would become sordid indeed. The most hopeless and helpless individual in all the world is the unbeliever the unbeliever in evervthino- that is wnrK while the individual who does not believe in man, who does not believe in woman, who frowns at ideals, who mooks at faiths; who scorns love as a weakness and who worships at the shrine of Self, lie goes his lonely way, snatching at gems and discovering that they are only dross when he finds them in his hand. HanninAsa Ioes not depend upon what we wrest from the world. Happiness uepenus upon our aoimy to enjoy, we can enjoy the things we have only to the degree\" in which we are nermitted to shar With others. Study those faces in this Christmas shopping season. See mat wnuenairea oia man, whose step is slow, whose hands are palsied, but whose eyes are bright with a light that is but a reflection of the spark of gladness that nestles\" in his soul and warms him and makes him content. A grandfather, perhaps! Some place a child is standing at a window, dreamino- of tfi generous-hearted Santa Clau\\'s concerning whom Grandpa has told wonaerous stories, now slowly the days creep by for, this child. It jumps from its warm bed in the morniner and rushes to its mother, with the oft-repèated question: is this Christmas, mamma?\" -\"Why, no,\" says mother, \"not yet, but pretty soon.\" \"Tomorrow ? Will tomorrow be Christmas, mamma ?....\" You know how it is. You know if vou ever had a child in vmir house at Christmas time. - .-- The old man in the department store is drpaminor nf that child as he inspects a doll or a woolly little bear or this or that. Before so very long, perhaps, a shadowv figure te ficnir nf dead will stand at his bedside and touch his forehead and say. \"Come corno with hie\". But today he lives. No kino- in all hi glory has ever wrung from life a joy that was deeper than in his; joy now as he stands in a tiny city of toys and chuckles at a vision of a Christmas morning now near at hand. . What if the roadi he has traveled has been hard? Has he not found his reward in. a child who runs her fingers thru his soft, white hair as she snuggles in -his arms when story-telling time has come? \\'Perhaps there have been days\\' when his tongue was sharp, when his heart was hard, but whatever venom-there may have-been on his tongues? is dissolved now, and a song sings in his heart.\\' For Christmas. nears, Good VYUl Toward Man\", and good. will toward boys anA good will toward little girls who stand at windows and dream ofr oanta yiaus. - . . Thus we are reclaimed, at Christmas time reclaimed from, ourselves, our worst enemies. Thus in the course of our sordidi selfishness interrupted, so that we emerge from thè Christmass season better equipped morally to go our way. It isn\\'t the gift that we give that counts. Its. the gift that we receive thru giving that makes of Christmas a season of joy.. CITIZENS OF ITALIAN EXTRACTION AND PÒLITICa By Joseph De Nigris \\' Time and again I hear the question why thè citens ot Italian extraction do not get together in politics; they- consider it an easy matter of a very small consequence but, onej iivej; knows how hard a thing really is until he trys tq dol To organize\\' the Italo-Americans\" of\\' BridgejQrt is an arduous undertaking. It would take àn ehqrmóus amount Qf tinie msk money, and\\'a man with time, money and i brains; well know- ejid well liked by every one. Is there such a man ihVBridgej)cH Vjìk: mg to sacrifice himself for the sake of uniting\" the; Ii foi their own prestige? My, answer is that we do not have a mai who without personal ambitions could or would undertake sucfx a task. If there were such a man, he would give up before he, gqp a good start, because, the Italians are suspicious and jealous op tile one that can-do something for them, instead of bqmg thank ful they hate and distrust the leaders, they all \"want to be leaders, ; and all aspire something in polijticsand often dò get a position ; yith the street cleaners department.\\' Every year near\" election! time political clubs spring up like mushrooms, some woukl b& ?,derugets a bunch of voun bóys \\'and starts\\' a club. First hV :ells the boys how they are going to havq their qljb recognized; ; md after that, how the members are going to be made, pojicement ; ;nd firemen. He is sure to swear black \"and blue that he wantsi iiothing for himself, \"that he is\\' doing it fojr the\\' benefit \"of tho ; )oys, but the very next morning the sejf glorified leader, goes to ; he leaders of the two major parties and bargains for a job for ; iimself and the expenses for the club. Believe, it or not, most q i.he jobs are gotten underhandly by th$ self styled leaders that lever fail to tell the people that are willing to listen- that the vant nothing for themselves. To give the readers of LA SENTINELLA an JUusJ&aoik q vhat the cheap politician of our own nationality are doing; I amn jomg to cite the following occurrence: \"Not long ago at a Demo ;ratic Political Rally one of the speaker addressed the audience in talian, but as usual the Democratic Party picked a man that ;poke the Italian language as I speak the Arab, he got confused )efore he started and hre isi what he said: \"My dear Country ìen, they called upon me to speak to you but I don\\'t know what o say, these Gentlemen here (pointing to the speakers on the latform with him) want me to say that the ReDubli cans ar 11 crooks but I know that the Democrats ar inst as rrrok-orl oG dare che altrui nel ricevere, qua- the Republicans\". The audience beinir comDosed mostlv of Tta za nell\\'umile tugurio del poverel- si le sue elemosine fossero una t hans when they heard what the speaker said clapped and cheered lo abbellendo d\\'un riso di letizia \\' doverosa restituzione, poiché la \\' wildly for several minutes the other speakers and candidates on vill\\'iivvtilAVo Icilio of Oll D O Vl \"I\" Ò flVlofionQ 0mtv cr I 4 1\" d VI 1 Q 4 T\\'TY\"! ili rm4 lìti r - -l r 1- 1- 1- 1 IJ1 A1 1 pienza, principio d\\'ogni virtù e complimented him for thè wonderful and masterly speech he made cagion d\\'ogni premio, toglie al notknpwing what he said. diritto il rigore, al castiero la! \"We will win anyhow\" said Mr. Rorahk in Wart. vendetta e la riccnezza muta in uctoDer 10, last.to a group ot influential citizens of Italian origin amministrazione di ciò che so- while discussig the State political situation. One of the group\\' pravanza a chi la possiede per a Bridgeport, suggested to Mr. Roraback. to secure some mAa soccorrere chi ne difetta, facendo Italian speaker to explain thè misunderstanding in regardo to volenterosamente accettare la Franci A. Pallotti\\'s incident, and to name some one on the State povertà come un\\'equa e provvi- ticket to keep the Italian vote satisfied within the Republican denziale divina legge necessaria folds. Mr. Roraback to the Bridgeporter\\'s suggestion answear all\\'ordine morale della società. \"Yes, that could be done, BUT, WE WILL WIN! ANYHOW\" Povertà e carità sono tesori di Mr. Roraback and his protegee Mr. Rogers forgot that two years 7. o v ?,go. they betl?yed Judge Pallotti and this, time got a dose of (Continua a pag. 2.a) , their own medicine. , '}"
      ]
     },
     "execution_count": 219,
     "metadata": {},
     "output_type": "execute_result"
    }
   ],
   "source": [
    "dic"
   ]
  },
  {
   "cell_type": "code",
   "execution_count": 186,
   "metadata": {},
   "outputs": [],
   "source": [
    "objet = ['file_name','file_name','file_name','file_name','file_name']"
   ]
  },
  {
   "cell_type": "code",
   "execution_count": 190,
   "metadata": {},
   "outputs": [
    {
     "ename": "TypeError",
     "evalue": "'dict' object is not callable",
     "output_type": "error",
     "traceback": [
      "\u001b[1;31m---------------------------------------------------------------------------\u001b[0m",
      "\u001b[1;31mTypeError\u001b[0m                                 Traceback (most recent call last)",
      "Cell \u001b[1;32mIn[190], line 1\u001b[0m\n\u001b[1;32m----> 1\u001b[0m \u001b[39mdict\u001b[39;49m(\u001b[39mzip\u001b[39;49m(objet,lis))\n",
      "\u001b[1;31mTypeError\u001b[0m: 'dict' object is not callable"
     ]
    }
   ],
   "source": [
    "dict(zip(objet,lis))"
   ]
  }
 ],
 "metadata": {
  "kernelspec": {
   "display_name": "Topic",
   "language": "python",
   "name": "python3"
  },
  "language_info": {
   "codemirror_mode": {
    "name": "ipython",
    "version": 3
   },
   "file_extension": ".py",
   "mimetype": "text/x-python",
   "name": "python",
   "nbconvert_exporter": "python",
   "pygments_lexer": "ipython3",
   "version": "3.10.9"
  },
  "orig_nbformat": 4
 },
 "nbformat": 4,
 "nbformat_minor": 2
}
