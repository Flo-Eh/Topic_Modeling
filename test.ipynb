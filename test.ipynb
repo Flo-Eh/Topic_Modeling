{
 "cells": [
  {
   "cell_type": "code",
   "execution_count": 1,
   "metadata": {},
   "outputs": [],
   "source": [
    "import uvicorn \n",
    "import gensim\n",
    "from gensim.models import LdaModel\n",
    "from gensim.models.coherencemodel import CoherenceModel\n",
    "from fastapi import FastAPI\n",
    "from fastapi import Header\n",
    "from pydantic import BaseModel\n",
    "import pandas as pd \n",
    "import numpy as np \n",
    "from gensim.test.utils import datapath\n",
    "from ast import literal_eval\n",
    "from gensim import corpora\n",
    "import os\n",
    "#from data_ingestion import read_txt_content, preprocess_data, get_date, get_ref, get_files_list\n",
    "from kpi import load_corpus_model, preprocess_data, load_lda_model, calculate_coherence\n"
   ]
  },
  {
   "cell_type": "code",
   "execution_count": 2,
   "metadata": {},
   "outputs": [],
   "source": [
    "folder_name = 'CI_newspaper_subcorpora'\n",
    "pub_refs = [\"2012271201\", \"sn85054967\", \"sn93053873\", \"sn85066408\", \"sn85055164\", \"sn84037024\", \"sn84037025\", \"sn84020351\", \"sn86092310\", \"sn92051386\"]\n",
    "pub_names = [\"Cronaca_Sovversiva\", \"Il_Patriota\", \"L'Indipendente\", \"L'Italia\", \"La_Libera_Parola\", \"La_Ragione\", \"La_Rassegna\", \"La_Sentinella\", \"La_Sentinella_del_West\", \"La_Tribuna_del_Connecticut\"]\n",
    "date_ref_1 = \"1903-06-06\"\n",
    "date_ref_2 = \"1919-05-01\""
   ]
  },
  {
   "cell_type": "code",
   "execution_count": 3,
   "metadata": {},
   "outputs": [],
   "source": [
    "corpus_model_file = 'corpus_model.csv'\n",
    "current_directory = os.getcwd()\n",
    "lda_model_file = os.path.join(current_directory, 'lda_model')  # Construct the path to the LDA model file\n",
    "bigrams = load_corpus_model(corpus_model_file)\n",
    "id2word, corpus = preprocess_data(bigrams)\n",
    "lda = load_lda_model(lda_model_file)"
   ]
  },
  {
   "cell_type": "code",
   "execution_count": 4,
   "metadata": {},
   "outputs": [],
   "source": [
    "topic_print_model = lda.print_topics(num_words=30)"
   ]
  },
  {
   "cell_type": "code",
   "execution_count": 6,
   "metadata": {},
   "outputs": [],
   "source": [
    "df_topic_print_model = pd.DataFrame(topic_print_model, columns=['topic_id','words'])"
   ]
  },
  {
   "cell_type": "code",
   "execution_count": 11,
   "metadata": {},
   "outputs": [
    {
     "data": {
      "text/plain": [
       "[(0,\n",
       "  '0.001*\"pace\" + 0.001*\"america\" + 0.001*\"francisco\" + 0.001*\"pubblico\" + 0.001*\"loggia\" + 0.001*\"sera\" + 0.001*\"vero\" + 0.001*\"patria\" + 0.001*\"morte\" + 0.001*\"capo\" + 0.001*\"alia\" + 0.001*\"figli\" + 0.001*\"società\" + 0.001*\"venne\" + 0.001*\"legge\" + 0.001*\"dollari\" + 0.001*\"colonia\" + 0.001*\"vittoria\" + 0.001*\"comitato\" + 0.001*\"londra\" + 0.001*\"cuore\" + 0.001*\"storia\" + 0.001*\"disse\" + 0.001*\"diritto\" + 0.001*\"fatti\" + 0.001*\"direttore\" + 0.001*\"altra\" + 0.001*\"delia\" + 0.001*\"milano\" + 0.001*\"lire\"'),\n",
       " (1,\n",
       "  '0.002*\"pace\" + 0.002*\"austriaci\" + 0.002*\"tedeschi\" + 0.001*\"wilson\" + 0.001*\"alleati\" + 0.001*\"nemico\" + 0.001*\"congresso\" + 0.001*\"vittoria\" + 0.001*\"nazioni\" + 0.001*\"questione\" + 0.001*\"america\" + 0.001*\"londra\" + 0.001*\"politica\" + 0.001*\"americani\" + 0.001*\"ltalia\" + 0.001*\"diritto\" + 0.001*\"americano\" + 0.001*\"legge\" + 0.001*\"marzo\" + 0.001*\"ufficiali\" + 0.001*\"patria\" + 0.001*\"francese\" + 0.001*\"italiane\" + 0.001*\"presidente_wilson\" + 0.001*\"lotta\" + 0.001*\"militare\" + 0.001*\"zione\" + 0.001*\"difesa\" + 0.001*\"conferenza\" + 0.001*\"americana\"'),\n",
       " (2,\n",
       "  '0.001*\"aprile\" + 0.001*\"pace\" + 0.001*\"morte\" + 0.001*\"legge\" + 0.001*\"wilson\" + 0.001*\"america\" + 0.001*\"alia\" + 0.001*\"patria\" + 0.001*\"venne\" + 0.001*\"notizia\" + 0.001*\"italiane\" + 0.001*\"capo\" + 0.001*\"camera\" + 0.001*\"francese\" + 0.001*\"opera\" + 0.001*\"milano\" + 0.001*\"vero\" + 0.001*\"francisco\" + 0.001*\"data\" + 0.001*\"londra\" + 0.001*\"forte\" + 0.001*\"ordine\" + 0.001*\"pubblico\" + 0.001*\"colonia\" + 0.001*\"tripoli\" + 0.001*\"pro\" + 0.001*\"lotta\" + 0.001*\"dare\" + 0.001*\"politica\" + 0.001*\"nazione\"'),\n",
       " (3,\n",
       "  '0.003*\"tedeschi\" + 0.002*\"nemico\" + 0.002*\"alleati\" + 0.002*\"pace\" + 0.002*\"wilson\" + 0.002*\"fiume\" + 0.001*\"presidente_wilson\" + 0.001*\"austriaci\" + 0.001*\"austria\" + 0.001*\"americani\" + 0.001*\"ottobre\" + 0.001*\"londra\" + 0.001*\"tedesco\" + 0.001*\"vittoria\" + 0.001*\"america\" + 0.001*\"ufficiali\" + 0.001*\"inglese\" + 0.001*\"nazione\" + 0.001*\"americano\" + 0.001*\"inglesi\" + 0.001*\"francese\" + 0.001*\"ltalia\" + 0.001*\"tedesca\" + 0.001*\"francesi\" + 0.001*\"nazioni\" + 0.001*\"russia\" + 0.001*\"situazione\" + 0.001*\"condizioni\" + 0.001*\"battaglia\" + 0.001*\"linea\"'),\n",
       " (4,\n",
       "  '0.002*\"tedeschi\" + 0.001*\"pace\" + 0.001*\"nemico\" + 0.001*\"russia\" + 0.001*\"alleati\" + 0.001*\"patria\" + 0.001*\"francese\" + 0.001*\"vittoria\" + 0.001*\"legge\" + 0.001*\"america\" + 0.001*\"difesa\" + 0.001*\"vero\" + 0.001*\"figli\" + 0.001*\"aprile\" + 0.001*\"lotta\" + 0.001*\"zione\" + 0.001*\"diritto\" + 0.001*\"maggio\" + 0.001*\"esercito\" + 0.001*\"camera\" + 0.001*\"wilson\" + 0.001*\"londra\" + 0.001*\"morte\" + 0.001*\"fatti\" + 0.001*\"milano\" + 0.001*\"venne\" + 0.001*\"società\" + 0.001*\"politica\" + 0.001*\"battaglia\" + 0.001*\"tedesco\"'),\n",
       " (5,\n",
       "  '0.002*\"pace\" + 0.002*\"tedeschi\" + 0.002*\"nemico\" + 0.002*\"alleati\" + 0.001*\"vittoria\" + 0.001*\"marzo\" + 0.001*\"wilson\" + 0.001*\"russia\" + 0.001*\"tedesco\" + 0.001*\"austria\" + 0.001*\"francese\" + 0.001*\"fiume\" + 0.001*\"americano\" + 0.001*\"francesi\" + 0.001*\"nazione\" + 0.001*\"legge\" + 0.001*\"americani\" + 0.001*\"londra\" + 0.001*\"diritto\" + 0.001*\"america\" + 0.001*\"aprile\" + 0.001*\"congresso\" + 0.001*\"delia\" + 0.001*\"lotta\" + 0.001*\"patria\" + 0.001*\"data\" + 0.001*\"ottobre\" + 0.001*\"condizioni\" + 0.001*\"americana\" + 0.001*\"milano\"'),\n",
       " (6,\n",
       "  '0.002*\"cuore\" + 0.001*\"cose\" + 0.001*\"pubblico\" + 0.001*\"colonia\" + 0.001*\"voce\" + 0.001*\"fatti\" + 0.001*\"vero\" + 0.001*\"ragione\" + 0.001*\"pace\" + 0.001*\"parola\" + 0.001*\"figli\" + 0.001*\"diritto\" + 0.001*\"america\" + 0.001*\"donna\" + 0.001*\"amore\" + 0.001*\"quei\" + 0.001*\"sole\" + 0.001*\"occhi\" + 0.001*\"storia\" + 0.001*\"patria\" + 0.001*\"pensiero\" + 0.001*\"terra\" + 0.001*\"zione\" + 0.001*\"società\" + 0.001*\"pur\" + 0.001*\"politica\" + 0.001*\"lotta\" + 0.001*\"giustizia\" + 0.001*\"dovere\" + 0.001*\"bella\"')]"
      ]
     },
     "execution_count": 11,
     "metadata": {},
     "output_type": "execute_result"
    }
   ],
   "source": [
    "topic_print_model"
   ]
  },
  {
   "cell_type": "code",
   "execution_count": 20,
   "metadata": {},
   "outputs": [
    {
     "name": "stdout",
     "output_type": "stream",
     "text": [
      "0 0.001*\"pace\" + 0.001*\"america\" + 0.001*\"francisco\" + 0.001*\"pubblico\" + 0.001*\"loggia\" + 0.001*\"sera\" + 0.001*\"vero\" + 0.001*\"patria\" + 0.001*\"morte\" + 0.001*\"capo\" + 0.001*\"alia\" + 0.001*\"figli\" + 0.001*\"società\" + 0.001*\"venne\" + 0.001*\"legge\" + 0.001*\"dollari\" + 0.001*\"colonia\" + 0.001*\"vittoria\" + 0.001*\"comitato\" + 0.001*\"londra\" + 0.001*\"cuore\" + 0.001*\"storia\" + 0.001*\"disse\" + 0.001*\"diritto\" + 0.001*\"fatti\" + 0.001*\"direttore\" + 0.001*\"altra\" + 0.001*\"delia\" + 0.001*\"milano\" + 0.001*\"lire\"\n"
     ]
    }
   ],
   "source": [
    "print(topic_print_model[0][0], topic_print_model[0][1])\n"
   ]
  },
  {
   "cell_type": "code",
   "execution_count": 25,
   "metadata": {},
   "outputs": [],
   "source": [
    "dic = { topic_print_model[i][0] : topic_print_model[i][1]  for i in range (7)}"
   ]
  },
  {
   "cell_type": "code",
   "execution_count": 26,
   "metadata": {},
   "outputs": [
    {
     "data": {
      "text/plain": [
       "{0: '0.001*\"pace\" + 0.001*\"america\" + 0.001*\"francisco\" + 0.001*\"pubblico\" + 0.001*\"loggia\" + 0.001*\"sera\" + 0.001*\"vero\" + 0.001*\"patria\" + 0.001*\"morte\" + 0.001*\"capo\" + 0.001*\"alia\" + 0.001*\"figli\" + 0.001*\"società\" + 0.001*\"venne\" + 0.001*\"legge\" + 0.001*\"dollari\" + 0.001*\"colonia\" + 0.001*\"vittoria\" + 0.001*\"comitato\" + 0.001*\"londra\" + 0.001*\"cuore\" + 0.001*\"storia\" + 0.001*\"disse\" + 0.001*\"diritto\" + 0.001*\"fatti\" + 0.001*\"direttore\" + 0.001*\"altra\" + 0.001*\"delia\" + 0.001*\"milano\" + 0.001*\"lire\"',\n",
       " 1: '0.002*\"pace\" + 0.002*\"austriaci\" + 0.002*\"tedeschi\" + 0.001*\"wilson\" + 0.001*\"alleati\" + 0.001*\"nemico\" + 0.001*\"congresso\" + 0.001*\"vittoria\" + 0.001*\"nazioni\" + 0.001*\"questione\" + 0.001*\"america\" + 0.001*\"londra\" + 0.001*\"politica\" + 0.001*\"americani\" + 0.001*\"ltalia\" + 0.001*\"diritto\" + 0.001*\"americano\" + 0.001*\"legge\" + 0.001*\"marzo\" + 0.001*\"ufficiali\" + 0.001*\"patria\" + 0.001*\"francese\" + 0.001*\"italiane\" + 0.001*\"presidente_wilson\" + 0.001*\"lotta\" + 0.001*\"militare\" + 0.001*\"zione\" + 0.001*\"difesa\" + 0.001*\"conferenza\" + 0.001*\"americana\"',\n",
       " 2: '0.001*\"aprile\" + 0.001*\"pace\" + 0.001*\"morte\" + 0.001*\"legge\" + 0.001*\"wilson\" + 0.001*\"america\" + 0.001*\"alia\" + 0.001*\"patria\" + 0.001*\"venne\" + 0.001*\"notizia\" + 0.001*\"italiane\" + 0.001*\"capo\" + 0.001*\"camera\" + 0.001*\"francese\" + 0.001*\"opera\" + 0.001*\"milano\" + 0.001*\"vero\" + 0.001*\"francisco\" + 0.001*\"data\" + 0.001*\"londra\" + 0.001*\"forte\" + 0.001*\"ordine\" + 0.001*\"pubblico\" + 0.001*\"colonia\" + 0.001*\"tripoli\" + 0.001*\"pro\" + 0.001*\"lotta\" + 0.001*\"dare\" + 0.001*\"politica\" + 0.001*\"nazione\"',\n",
       " 3: '0.003*\"tedeschi\" + 0.002*\"nemico\" + 0.002*\"alleati\" + 0.002*\"pace\" + 0.002*\"wilson\" + 0.002*\"fiume\" + 0.001*\"presidente_wilson\" + 0.001*\"austriaci\" + 0.001*\"austria\" + 0.001*\"americani\" + 0.001*\"ottobre\" + 0.001*\"londra\" + 0.001*\"tedesco\" + 0.001*\"vittoria\" + 0.001*\"america\" + 0.001*\"ufficiali\" + 0.001*\"inglese\" + 0.001*\"nazione\" + 0.001*\"americano\" + 0.001*\"inglesi\" + 0.001*\"francese\" + 0.001*\"ltalia\" + 0.001*\"tedesca\" + 0.001*\"francesi\" + 0.001*\"nazioni\" + 0.001*\"russia\" + 0.001*\"situazione\" + 0.001*\"condizioni\" + 0.001*\"battaglia\" + 0.001*\"linea\"',\n",
       " 4: '0.002*\"tedeschi\" + 0.001*\"pace\" + 0.001*\"nemico\" + 0.001*\"russia\" + 0.001*\"alleati\" + 0.001*\"patria\" + 0.001*\"francese\" + 0.001*\"vittoria\" + 0.001*\"legge\" + 0.001*\"america\" + 0.001*\"difesa\" + 0.001*\"vero\" + 0.001*\"figli\" + 0.001*\"aprile\" + 0.001*\"lotta\" + 0.001*\"zione\" + 0.001*\"diritto\" + 0.001*\"maggio\" + 0.001*\"esercito\" + 0.001*\"camera\" + 0.001*\"wilson\" + 0.001*\"londra\" + 0.001*\"morte\" + 0.001*\"fatti\" + 0.001*\"milano\" + 0.001*\"venne\" + 0.001*\"società\" + 0.001*\"politica\" + 0.001*\"battaglia\" + 0.001*\"tedesco\"',\n",
       " 5: '0.002*\"pace\" + 0.002*\"tedeschi\" + 0.002*\"nemico\" + 0.002*\"alleati\" + 0.001*\"vittoria\" + 0.001*\"marzo\" + 0.001*\"wilson\" + 0.001*\"russia\" + 0.001*\"tedesco\" + 0.001*\"austria\" + 0.001*\"francese\" + 0.001*\"fiume\" + 0.001*\"americano\" + 0.001*\"francesi\" + 0.001*\"nazione\" + 0.001*\"legge\" + 0.001*\"americani\" + 0.001*\"londra\" + 0.001*\"diritto\" + 0.001*\"america\" + 0.001*\"aprile\" + 0.001*\"congresso\" + 0.001*\"delia\" + 0.001*\"lotta\" + 0.001*\"patria\" + 0.001*\"data\" + 0.001*\"ottobre\" + 0.001*\"condizioni\" + 0.001*\"americana\" + 0.001*\"milano\"',\n",
       " 6: '0.002*\"cuore\" + 0.001*\"cose\" + 0.001*\"pubblico\" + 0.001*\"colonia\" + 0.001*\"voce\" + 0.001*\"fatti\" + 0.001*\"vero\" + 0.001*\"ragione\" + 0.001*\"pace\" + 0.001*\"parola\" + 0.001*\"figli\" + 0.001*\"diritto\" + 0.001*\"america\" + 0.001*\"donna\" + 0.001*\"amore\" + 0.001*\"quei\" + 0.001*\"sole\" + 0.001*\"occhi\" + 0.001*\"storia\" + 0.001*\"patria\" + 0.001*\"pensiero\" + 0.001*\"terra\" + 0.001*\"zione\" + 0.001*\"società\" + 0.001*\"pur\" + 0.001*\"politica\" + 0.001*\"lotta\" + 0.001*\"giustizia\" + 0.001*\"dovere\" + 0.001*\"bella\"'}"
      ]
     },
     "execution_count": 26,
     "metadata": {},
     "output_type": "execute_result"
    }
   ],
   "source": [
    "dic"
   ]
  }
 ],
 "metadata": {
  "kernelspec": {
   "display_name": "Topic",
   "language": "python",
   "name": "python3"
  },
  "language_info": {
   "codemirror_mode": {
    "name": "ipython",
    "version": 3
   },
   "file_extension": ".py",
   "mimetype": "text/x-python",
   "name": "python",
   "nbconvert_exporter": "python",
   "pygments_lexer": "ipython3",
   "version": "3.10.9"
  },
  "orig_nbformat": 4
 },
 "nbformat": 4,
 "nbformat_minor": 2
}
